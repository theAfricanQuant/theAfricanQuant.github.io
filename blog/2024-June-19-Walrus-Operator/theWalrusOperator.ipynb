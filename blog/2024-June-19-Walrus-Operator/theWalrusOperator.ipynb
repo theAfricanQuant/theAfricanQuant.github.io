{
 "cells": [
  {
   "cell_type": "raw",
   "id": "105877bf-ba55-4ef7-b5a4-f30733deeda3",
   "metadata": {},
   "source": [
    "---\n",
    "title: \"Understanding The Assignment Expression aka Walrus Operator\"\n",
    "author: \"Ricky Macharm\"\n",
    "date: \"19 June 2024\"\n",
    "image: walrus.png\n",
    "categories: [Python, walrus operator, assignment expression, PEP 572] # self-defined categories\n",
    "format: html\n",
    "execute:\n",
    "    eval: true\n",
    "jupyter: python3\n",
    "---"
   ]
  },
  {
   "cell_type": "markdown",
   "id": "95141c90-381b-44af-8379-1ac3b55f3aba",
   "metadata": {},
   "source": [
    "## Introduction: The Evolution of Decision-Making in Python\n",
    "\n",
    "One of the world's most widely-used programming languages is undoubtedly Python. Created by Guido van Rossum in 1991, Python's inevitable growth necessitated a robust framework for governance to manage its expanding ecosystem.\n",
    "\n",
    "Initially, Python's governance was straightforward. Guido van Rossum served as the Benevolent Dictator For Life (BDFL), a title that conferred both ultimate authority and the expectation of benevolence in decision-making. This model allowed for swift, unilateral decisions, essential during the nascent stages of Python's development. However, as the language gained traction and its user base expanded, the limitations of a single-point decision-maker became evident.\n",
    "\n",
    "In response to the growing complexity, the Python Enhancement Proposal (PEP) system was instituted. PEPs function as formalized proposals for changes to Python, analogous to legislative amendments in political systems. Each PEP undergoes a rigorous process of drafting, review, and acceptance. This system democratized the decision-making process, allowing for community input and expert evaluation.\n",
    "\n",
    "Guido van Rossum appointed BDFL Delegates who are entrusted with decision-making power in specific areas, thus decentralizing authority while maintaining overall coherence in the language's evolution.\n",
    "\n",
    "On October 14, 2019, Python 3.8 introduced the assignment expression or the walrus operator (`:=`) via PEP 572, allowing in-line assignment within expressions to enhance code efficiency and readability. Despite its benefits, the operator sparked significant controversy, highlighting the intrinsic tension between innovation and stability in programming language development. This debate led to Guido van Rossum's resignation as BDFL, illustrating the personal toll of leadership and prompting a reevaluation of Python's governance structure to create more sustainable, distributed decision-making models.\n",
    "\n",
    "## Understanding the Walrus Operator\n",
    "\n",
    "The walrus operator is a syntactic innovation that allows for assignment expressions. This operator can streamline code by reducing redundancy and improving readability, particularly when dealing with computationally expensive operations. To elucidate its utility, let us examine various examples.\n",
    "\n",
    "Imagine you have a value you want to use multiple times in a single line of code. Normally, you would have to do this in two steps:\n",
    "\n",
    "```python\n",
    "x = compute_value()  # Step 1: Assign the value to a variable\n",
    "if x > 10:           # Step 2: Use the variable in an expression\n",
    "    print(x)\n",
    "```\n",
    "In the first line of code, we are performing an _assignment operation_. The function `compute_value()` is called, and it executes its defined task, which could involve computationally expensive calculations, data processing, or fetching information. The result of this function call is then stored in a variable named `x`.\n",
    "\n",
    "* Function Call: `compute_value()` is invoked, and it produces an output based on its implementation.\n",
    "* Assignment: The `=` symbol assigns the output of `compute_value()` to the variable `x`.\n",
    "\n",
    "This step is fundamental because it captures and stores the result of the function, making it available for future use within the program. By _assigning_ this value to `x`, we ensure that we can reference and utilize the computed result in subsequent code.\n",
    "\n",
    "\n",
    "In the second line, we evaluate a conditional _expression_ and perform an action based on the result.\n",
    "\n",
    "* The `if` statement `if x > 10 : print(x)` checks if the _expression_ is true then prints the value of `x`\n",
    "\n",
    "\n",
    "Notice how any time either of the words _assignment_ or _expression_ is used, I italicized it. The _assignment expression_ (or walrus operator because the symbol `:=` looks like the teeth of a walrus lying down) performs the two operations of assignment and expresssion in one go. The Code above can be shortened to:\n",
    "\n",
    "```python\n",
    "if (x := compute_value()) > 10: # Assign the value to a variable and use it in an expression\n",
    "    print(x)\n",
    "```\n",
    "\n",
    "- `x := compute_value()`: This part does two things at once. It calls the `compute_value()` function and assigns its result to the variable `x`.\n",
    "- `if (x := compute_value()) > 10:`: This is an `if` statement that checks if the result of `compute_value()` (which is now stored in `x`) is greater than 10. If it is, it executes the code inside the `if` block (in this case, `print(x)`).\n",
    "\n",
    "This has made our code shorter by reducing the need to write the same expression twice and also kept related logic in one place, making the code hopefully easier to understand at a glance. in a nutshell, the walrus operator (`:=`) allows us to assign values within expressions, making our code shorter and often easier to read. It’s especially useful when we need to use the result of an expression multiple times in a single line of code.\n",
    "\n",
    "### Reducing Redundancy in Code\n",
    "\n",
    "Consider the scenario where we process sensor data and filter out invalid entries. Using traditional methods, the code appears verbose:\n",
    "\n",
    "```python\n",
    "valid_data = []\n",
    "for value in sensor_data:\n",
    "    result = compute_expensive_value(value)\n",
    "    if result is not None:\n",
    "```\n",
    "Whenever you have a block of code that has an empty list sitting above a `for loop`, it usually implies that a list comprehension could be employed to do the exact same thing.\n",
    "\n",
    "```python.\n",
    "\n",
    "  valid_data = [compute_expensive_value(value) for value in sensor_data \n",
    "  if compute_expensive_value(value) is not None]\n",
    "\n",
    "  # Compute statistics on valid_data\n",
    "  average = sum(valid_data) / len(valid_data)\n",
    "```\n",
    "\n",
    "This is a lot cleaner than the previous one; however, it is also quite inefficient. We can see that we are calling the computationally expensive function twice instead of once.\n",
    "\n",
    "\n",
    "With the walrus operator, we can condense this logic into a more efficient list comprehension:\n",
    "\n",
    "```python\n",
    "valid_data = [result for value in sensor_data if (result := compute_expensive_value(value))]\n",
    "```\n",
    "#### Example: Handling Regular Expressions\n",
    "\n",
    "A common pattern involves checking for matches and then acting upon them:\n",
    "\n",
    "```python\n",
    "match = pattern.search(data)\n",
    "if match is not None:\n",
    "    # Do something with match\n",
    "```\n",
    "\n",
    "The walrus operator allows us to streamline this operation:\n",
    "\n",
    "```python\n",
    "if (match := pattern.search(data)) is not None:\n",
    "    # Do something with match\n",
    "```\n",
    "\n",
    "This approach reduces the scope of the `match` variable, enhancing code readability and maintainability.\n",
    "\n",
    "## Computational Efficiency: A Case Study\n",
    "\n",
    "Let us define a computationally expensive function called `mega_transform` that serves to illustrate the efficiency gains provided by the walrus operator:"
   ]
  },
  {
   "cell_type": "code",
   "execution_count": 3,
   "id": "b94cc963-db26-40e3-b115-4d6f69126846",
   "metadata": {},
   "outputs": [],
   "source": [
    "import time\n",
    "\n",
    "def mega_transform(x):\n",
    "    time.sleep(0.9)\n",
    "    sign = 1 if x % 2 == 0 else -1\n",
    "    return sign * x ** 2"
   ]
  },
  {
   "cell_type": "markdown",
   "id": "10c3f101-3f77-42c2-a9fa-e3fa3f5a5d3c",
   "metadata": {},
   "source": [
    "Given a list of numbers, we can measure the time taken to filter and transform these numbers without using the walrus operator:"
   ]
  },
  {
   "cell_type": "code",
   "execution_count": 4,
   "id": "179f3eea-af84-44c5-8b7b-ece104e5d888",
   "metadata": {},
   "outputs": [
    {
     "name": "stdout",
     "output_type": "stream",
     "text": [
      "[4, 16, 36, 64, 100, 144, 196, 256, 324]\n",
      "total time: 25.35 secs\n"
     ]
    }
   ],
   "source": [
    "nu_list = list(range(1, 20))\n",
    "\n",
    "start = time.perf_counter()\n",
    "result = [mega_transform(x) for x in nu_list if mega_transform(x) > 0]\n",
    "end = time.perf_counter()\n",
    "print(result)\n",
    "print(f\"total time: {end - start:.2f} secs\")"
   ]
  },
  {
   "cell_type": "markdown",
   "id": "2993a4c1-84f3-4675-8901-21f40ab00cab",
   "metadata": {},
   "source": [
    "We repeat the process using the walrus operator to demonstrate its efficiency:"
   ]
  },
  {
   "cell_type": "code",
   "execution_count": 5,
   "id": "2834a391-2ae4-43cf-8b8e-2bc9acbcaddb",
   "metadata": {},
   "outputs": [
    {
     "name": "stdout",
     "output_type": "stream",
     "text": [
      "[4, 16, 36, 64, 100, 144, 196, 256, 324]\n",
      "total time: 17.19 secs\n"
     ]
    }
   ],
   "source": [
    "start = time.perf_counter()\n",
    "result = [result for x in nu_list if (result := mega_transform(x)) > 0]\n",
    "end = time.perf_counter()\n",
    "print(result)\n",
    "print(f\"total time: {end - start:.2f} secs\")"
   ]
  },
  {
   "cell_type": "markdown",
   "id": "410b84fe-0766-4e76-b5f2-76d8524f399e",
   "metadata": {},
   "source": [
    "The results clearly indicate that the walrus operator reduces the computational overhead by avoiding redundant function calls.\n",
    "\n",
    "### Try this yourself\n",
    "\n",
    "You can try this in your IDE like vscode, sublime or whatever you find fun:\n",
    "\n",
    "You are to create a simple command-line interface in Python that allows you to execute shell commands until the user types \"exit\". \n",
    "\n",
    "```python\n",
    "import subprocess\n",
    "\n",
    "command = input(\"$ \")\n",
    "while command != \"exit\":\n",
    "    subprocess.run(command, shell=True)\n",
    "    command = input(\"$ \")\n",
    "```\n",
    "::: {.content-visible when-format=\"html\"}\n",
    "![without the walrus operator](no_walrus_19.06.2024.gif)   \n",
    ":::\n",
    "\n",
    "```python\n",
    "import subprocess\n",
    "\n",
    "while (command := input(\"$ \")) != \"exit\":\n",
    "    subprocess.run(command, shell=True)\n",
    "```\n",
    "\n",
    "::: {.content-visible when-format=\"html\"}\n",
    "![with the walrus operator](walrus19.06.2024.gif)\n",
    ":::\n",
    "\n",
    "## Conclusion\n",
    "\n",
    "In conclusion, the walrus operator is a powerful tool for optimizing Python code, particularly in scenarios involving computationally expensive operations. By allowing in-line assignments, it reduces redundancy, improves readability, and enhances overall efficiency. For developers dealing with complex data processing tasks, the walrus operator is a valuable addition to Python's rich set of features.\n",
    "\n",
    "These examples are but a few instances demonstrating the utility of the walrus operator. For further exploration and practical use-cases, the references below provide additional insights.\n",
    "\n",
    "### References\n",
    "\n",
    "- [PEP 572 – Assignment Expressions](https://peps.python.org/pep-0572/)\n",
    "- [Dustin Ingram's Talk on the Walrus Operator](https://youtu.be/mHOgGuALfNc)\n"
   ]
  },
  {
   "cell_type": "code",
   "execution_count": null,
   "id": "2fc495dc-f124-4866-a88a-f455570edd8d",
   "metadata": {},
   "outputs": [],
   "source": []
  },
  {
   "cell_type": "code",
   "execution_count": null,
   "id": "a2a26559-f338-4c8c-bacc-b459219ccd79",
   "metadata": {},
   "outputs": [],
   "source": []
  }
 ],
 "metadata": {
  "kernelspec": {
   "display_name": "Python 3 (ipykernel)",
   "language": "python",
   "name": "python3"
  },
  "language_info": {
   "codemirror_mode": {
    "name": "ipython",
    "version": 3
   },
   "file_extension": ".py",
   "mimetype": "text/x-python",
   "name": "python",
   "nbconvert_exporter": "python",
   "pygments_lexer": "ipython3",
   "version": "3.10.12"
  }
 },
 "nbformat": 4,
 "nbformat_minor": 5
}
