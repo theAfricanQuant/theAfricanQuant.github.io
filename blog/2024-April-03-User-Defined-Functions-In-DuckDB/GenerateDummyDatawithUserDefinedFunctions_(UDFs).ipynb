{
 "cells": [
  {
   "cell_type": "raw",
   "id": "f05665b1-1ac7-4c90-95c4-65a53630139a",
   "metadata": {},
   "source": [
    "---\n",
    "title: \"Introduction to DuckDB: Working with User Defined Functions (UDF)\"\n",
    "author: \"Ricky Macharm\"\n",
    "date: \"03 Apr 2024\"\n",
    "image: duckdb.png\n",
    "categories: [DuckDB, Database,SQL, User-Defined Functions, Queries, In-Process, Python] # self-defined categories\n",
    "format: html\n",
    "execute:\n",
    "    eval: true\n",
    "jupyter: python3\n",
    "---"
   ]
  },
  {
   "cell_type": "markdown",
   "id": "559e23af-c844-4229-809e-8e7a4baeeada",
   "metadata": {},
   "source": [
    "## Introduction\n",
    "\n",
    "DuckDB, a relatively new entrant in the world of databases, is akin to finding a swiss army knife when you’re used to dealing with specialized tools. It's an in-process SQL database, which, in layman's terms, means it operates within your application’s process. This is a contrast to more conventional databases that run as separate server processes.\n",
    "\n",
    "Picture a library. Traditional databases like MySQL or PostgreSQL are like separate library buildings you visit. Each time you need a book (or data), you go there, get what you need, and come back. DuckDB, on the other hand, is like having a personal bookshelf in your room, integrated into your own space for easy and immediate access. This structure lends DuckDB an edge in efficiency and simplicity, particularly for data analysis tasks.\n",
    "\n",
    "DuckDB shines in scenarios where you need to analyze large amounts of data rapidly. Its columnar storage format, which organizes data by columns rather than rows, is optimized for analytical queries. Imagine a spreadsheet; most databases read it row by row. DuckDB reads it column by column, which is much faster for certain types of data analysis.\n",
    "\n",
    "But DuckDB isn't just about speed and proximity. It’s also incredibly versatile. Its support for standard SQL makes it instantly familiar to anyone who’s worked with traditional databases. It's like speaking the same language but finding out it has some neat new expressions and idioms that make certain tasks much easier.\n",
    "\n",
    "Another area where DuckDB stands out is its minimal setup and maintenance. Unlike more heavyweight databases, which require careful installation, configuration, and maintenance, getting DuckDB up and running is as simple as installing a Python library. It's like the difference between setting up a tent and building a full-fledged house.\n",
    "\n",
    "However, DuckDB is not without its limitations. Its in-process nature means it’s not designed for scenarios where you need a separate, centralized database server accessible to multiple applications or users simultaneously – a common scenario in web applications.\n",
    "\n",
    "For data scientists working primarily in Python, DuckDB offers seamless integration, allowing them to stay within their familiar Python environment while performing complex SQL queries on large datasets. This is a significant productivity boost, as it eliminates the need to switch between different tools and interfaces.\n",
    "\n",
    "In comparison, traditional databases like MySQL or PostgreSQL might offer more in terms of advanced features, security, and scalability for application development, but they also come with more overhead in terms of setup and maintenance. They are more like trucks, suitable for heavy lifting and long journeys, whereas DuckDB is more like a nimble bike, perfect for quick trips within the city.\n",
    "\n",
    "In summary, DuckDB is a compact, efficient, and easy-to-use database that excels in data analysis within an application process. It's a perfect fit for data analysts and scientists who need speed and efficiency without the overhead of traditional database servers. But for applications requiring a standalone database server, especially in production environments, traditional databases still hold the fort.\n",
    "\n",
    "Exploring the depths of DuckDB's Python package, particularly its latest feature that allows the addition of custom functions, is like opening a box of infinite possibilities. Let's get into the weeds a little bit, step by step, aimed at newbies like me who are eager to learn each detail."
   ]
  },
  {
   "cell_type": "markdown",
   "id": "644a63c4-bba1-424a-b03d-9065c4e4d979",
   "metadata": {},
   "source": [
    "### Understanding DuckDB and Its Python Package\n",
    "\n",
    "Imagine a toolbox; DuckDB is like a new, sophisticated tool inside it. DuckDB is an in-process SQL (Structured Query Language) database. This means it runs within your program, eliminating the need for a separate database server. Think of it as a helper living inside your Python script, managing data efficiently.\n",
    "\n",
    "As of the time of this writing, it is in its 0.10 realease; however, in its 0.8 release, DuckDB introduced a game-changing feature: allowing users to create their own functions using Python. It's like giving you the freedom to create a personalized tool for this toolbox.\n",
    "\n",
    "To better understand this, we introduce another library called 'Faker'. Faker is like a magician in the world of data. It generates fake data – names, addresses, emails, etc. This is especially handy for testing and developing, as you often need data that isn't.\n",
    "\n",
    "### Installation\n",
    "\n",
    "If you do not have either duckdb or faker installed, the following line will help you to do so.\n",
    "```bash\n",
    "mamba install duckdb faker -y\n",
    "```\n",
    "(or use `pip` without the `-y` flag, which might be easier). \n",
    "\n",
    "This line is like telling your computer, \"Hey, please add these two new tools to our kit.\" Mamba or pip are like assistants fetching these tools for us.\n",
    "\n",
    "\n",
    "Then, we dive into Python code:"
   ]
  },
  {
   "cell_type": "code",
   "execution_count": 1,
   "id": "14795837-53cd-48d3-8c33-20aed5b69f66",
   "metadata": {},
   "outputs": [],
   "source": [
    "import faker\n",
    "fake = faker.Faker()"
   ]
  },
  {
   "cell_type": "markdown",
   "id": "d33052be-1f80-4d71-ba45-7e12b2782ba6",
   "metadata": {},
   "source": [
    "Here, we’re simply saying, \"Let's start using Faker and create a new Faker generator.\" It’s like turning on our data-creating magician.\n",
    "\n",
    "Next, we define a new function, `generate_person`:"
   ]
  },
  {
   "cell_type": "code",
   "execution_count": 2,
   "id": "92f7b9bc-6e5e-49c0-835f-cfb92f476a98",
   "metadata": {},
   "outputs": [],
   "source": [
    "def generate_person():\n",
    "    person = {\n",
    "        'name': fake.name(),\n",
    "        'city': fake.city(),\n",
    "        'state': fake.state(),\n",
    "        'zip_code': fake.zipcode(),\n",
    "        'country': fake.country(),\n",
    "        'email': fake.email(),\n",
    "        'job': fake.job(),\n",
    "        'company': fake.company(),\n",
    "        'ssn': fake.ssn(),\n",
    "        'birthdate': fake.date_of_birth(),\n",
    "        'phone_number': fake.phone_number()\n",
    "    }\n",
    "    return person"
   ]
  },
  {
   "cell_type": "markdown",
   "id": "9cc078bc-8877-4dba-a330-81b00b4c68b7",
   "metadata": {},
   "source": [
    "This function is our custom tool. When called, it creates a fake person with details like name, city, and job. Each `fake.xxx()` calls on Faker to conjure up a piece of data.\n",
    "\n",
    "### Integrating with DuckDB\n",
    "\n",
    "Now, the exciting part: integrating this with DuckDB."
   ]
  },
  {
   "cell_type": "code",
   "execution_count": 3,
   "id": "310f617c-f646-4094-bc2e-40d025fe5bfd",
   "metadata": {},
   "outputs": [
    {
     "name": "stdout",
     "output_type": "stream",
     "text": [
      "version: 0.10.0\n"
     ]
    }
   ],
   "source": [
    "import duckdb\n",
    "from duckdb.typing import *\n",
    "print(f\"version: {duckdb.__version__}\")"
   ]
  },
  {
   "cell_type": "code",
   "execution_count": 4,
   "id": "966f9800-3e57-4a3d-86db-ff44f9f2523c",
   "metadata": {},
   "outputs": [],
   "source": [
    "con = duckdb.connect('udf.duck.db')"
   ]
  },
  {
   "cell_type": "markdown",
   "id": "ae391f55-2af4-4a46-98cf-c47bcf8aedf5",
   "metadata": {},
   "source": [
    "Here, we’re setting up a connection to DuckDB, like opening a line of communication with our database tool."
   ]
  },
  {
   "cell_type": "code",
   "execution_count": 5,
   "id": "835cd430-2af6-421b-9f14-88237a4fb7f3",
   "metadata": {},
   "outputs": [
    {
     "data": {
      "text/plain": [
       "<duckdb.duckdb.DuckDBPyConnection at 0x7fd49caca2f0>"
      ]
     },
     "execution_count": 5,
     "metadata": {},
     "output_type": "execute_result"
    }
   ],
   "source": [
    "con.create_function(\n",
    "    'generate_person',\n",
    "    generate_person,\n",
    "    [],\n",
    "    duckdb.struct_type({\n",
    "        'name': 'VARCHAR',\n",
    "        'city': 'VARCHAR',\n",
    "        'state': 'VARCHAR',\n",
    "        'zip_code': 'VARCHAR',\n",
    "        'country': 'VARCHAR',\n",
    "        'email': 'VARCHAR',\n",
    "        'job': 'VARCHAR',\n",
    "        'company': 'VARCHAR',\n",
    "        'ssn': 'VARCHAR',\n",
    "        'birthdate': 'DATE',\n",
    "        'phone_number': 'VARCHAR'\n",
    "    })\n",
    ")"
   ]
  },
  {
   "cell_type": "markdown",
   "id": "61380697-cf4b-458a-a0a3-799a1a2a9099",
   "metadata": {},
   "source": [
    "In this snippet, we tell DuckDB, \"Hey, I've got this cool function called `generate_person`. Please use it as if it's one of your native functions.\" `duckdb.struct_type` specifies the structure of data our function returns, much like defining what kind of output our tool will produce.\n",
    "\n",
    "### Creating and Populating a Table with Dummy Data\n",
    "\n",
    "Finally, we use our function in a SQL query:"
   ]
  },
  {
   "cell_type": "code",
   "execution_count": 6,
   "id": "2a5e94fa-a409-4e1f-a28a-173091e06a87",
   "metadata": {},
   "outputs": [
    {
     "name": "stdout",
     "output_type": "stream",
     "text": [
      "({'name': 'Jason Johnston Jr.', 'city': 'Pattonshire', 'state': 'Utah', 'zip_code': '83591', 'country': 'Mayotte', 'email': 'brookemorse@example.com', 'job': 'Communications engineer', 'company': 'Brown Group', 'ssn': '566-85-9938', 'birthdate': datetime.date(1921, 12, 13), 'phone_number': '+1-906-990-7965x959'},)\n",
      "({'name': 'Jason Johnston Jr.', 'city': 'Pattonshire', 'state': 'Utah', 'zip_code': '83591', 'country': 'Mayotte', 'email': 'brookemorse@example.com', 'job': 'Communications engineer', 'company': 'Brown Group', 'ssn': '566-85-9938', 'birthdate': datetime.date(1921, 12, 13), 'phone_number': '+1-906-990-7965x959'},)\n",
      "({'name': 'Jason Johnston Jr.', 'city': 'Pattonshire', 'state': 'Utah', 'zip_code': '83591', 'country': 'Mayotte', 'email': 'brookemorse@example.com', 'job': 'Communications engineer', 'company': 'Brown Group', 'ssn': '566-85-9938', 'birthdate': datetime.date(1921, 12, 13), 'phone_number': '+1-906-990-7965x959'},)\n",
      "({'name': 'Jason Johnston Jr.', 'city': 'Pattonshire', 'state': 'Utah', 'zip_code': '83591', 'country': 'Mayotte', 'email': 'brookemorse@example.com', 'job': 'Communications engineer', 'company': 'Brown Group', 'ssn': '566-85-9938', 'birthdate': datetime.date(1921, 12, 13), 'phone_number': '+1-906-990-7965x959'},)\n",
      "({'name': 'Jason Johnston Jr.', 'city': 'Pattonshire', 'state': 'Utah', 'zip_code': '83591', 'country': 'Mayotte', 'email': 'brookemorse@example.com', 'job': 'Communications engineer', 'company': 'Brown Group', 'ssn': '566-85-9938', 'birthdate': datetime.date(1921, 12, 13), 'phone_number': '+1-906-990-7965x959'},)\n",
      "({'name': 'Jason Johnston Jr.', 'city': 'Pattonshire', 'state': 'Utah', 'zip_code': '83591', 'country': 'Mayotte', 'email': 'brookemorse@example.com', 'job': 'Communications engineer', 'company': 'Brown Group', 'ssn': '566-85-9938', 'birthdate': datetime.date(1921, 12, 13), 'phone_number': '+1-906-990-7965x959'},)\n",
      "({'name': 'Jason Johnston Jr.', 'city': 'Pattonshire', 'state': 'Utah', 'zip_code': '83591', 'country': 'Mayotte', 'email': 'brookemorse@example.com', 'job': 'Communications engineer', 'company': 'Brown Group', 'ssn': '566-85-9938', 'birthdate': datetime.date(1921, 12, 13), 'phone_number': '+1-906-990-7965x959'},)\n",
      "({'name': 'Jason Johnston Jr.', 'city': 'Pattonshire', 'state': 'Utah', 'zip_code': '83591', 'country': 'Mayotte', 'email': 'brookemorse@example.com', 'job': 'Communications engineer', 'company': 'Brown Group', 'ssn': '566-85-9938', 'birthdate': datetime.date(1921, 12, 13), 'phone_number': '+1-906-990-7965x959'},)\n",
      "({'name': 'Jason Johnston Jr.', 'city': 'Pattonshire', 'state': 'Utah', 'zip_code': '83591', 'country': 'Mayotte', 'email': 'brookemorse@example.com', 'job': 'Communications engineer', 'company': 'Brown Group', 'ssn': '566-85-9938', 'birthdate': datetime.date(1921, 12, 13), 'phone_number': '+1-906-990-7965x959'},)\n",
      "({'name': 'Jason Johnston Jr.', 'city': 'Pattonshire', 'state': 'Utah', 'zip_code': '83591', 'country': 'Mayotte', 'email': 'brookemorse@example.com', 'job': 'Communications engineer', 'company': 'Brown Group', 'ssn': '566-85-9938', 'birthdate': datetime.date(1921, 12, 13), 'phone_number': '+1-906-990-7965x959'},)\n"
     ]
    }
   ],
   "source": [
    "rows = con.sql(\"\"\"\n",
    "SELECT generate_person() AS person\n",
    "FROM generate_series(1, 10)\n",
    "\"\"\").fetchall()\n",
    "for row in rows:\n",
    "    print(row)"
   ]
  },
  {
   "cell_type": "markdown",
   "id": "fa6a157b-437b-4a03-bbaa-c2863fb749e2",
   "metadata": {},
   "source": [
    "This is where magic happens. We ask DuckDB to create a new table, `people`, the code is executing a query in DuckDB to generate data for 10 fake people, by our `generate_person` function, fetching those data rows into Python, and then iterating over these rows to print them out. This is a common pattern for generating and inspecting data in database-driven Python applications, especially in data analysis and testing scenarios. It’s like telling DuckDB to build a house and fill it with residents, each created by our custom tool.\n",
    "\n",
    "### Encountering and Solving a Problem\n",
    "\n",
    "But, there was a twist. This script kept returning the same person over and over. Why? Because DuckDB, trying to be efficient, was reusing the result of the function. It's like using a template instead of creating a new person each time.\n",
    "\n",
    "The solution? We modify `generate_person` to accept a seed:"
   ]
  },
  {
   "cell_type": "code",
   "execution_count": 7,
   "id": "d87b56af-ce10-4ba7-ae59-f726a083457e",
   "metadata": {},
   "outputs": [],
   "source": [
    "def generate_person(seed):\n",
    "    person = {\n",
    "        'name': fake.name(),\n",
    "        'city': fake.city(),\n",
    "        'state': fake.state(),\n",
    "        'zip_code': fake.zipcode(),\n",
    "        'country': fake.country(),\n",
    "        'email': fake.email(),\n",
    "        'job': fake.job(),\n",
    "        'company': fake.company(),\n",
    "        'ssn': fake.ssn(),\n",
    "        'birthdate': fake.date_of_birth(),\n",
    "        'phone_number': fake.phone_number()\n",
    "    }\n",
    "    return person"
   ]
  },
  {
   "cell_type": "code",
   "execution_count": 8,
   "id": "340e37a1-cb7f-4923-ade6-4677ba9420f9",
   "metadata": {},
   "outputs": [
    {
     "name": "stdout",
     "output_type": "stream",
     "text": [
      "({'name': 'Andrea Jordan', 'city': 'Port Lisashire', 'state': 'Connecticut', 'zip_code': '98788', 'country': 'Eritrea', 'email': 'dawngonzalez@example.net', 'job': 'Cabin crew', 'company': 'Barton-Fernandez', 'ssn': '894-92-7787', 'birthdate': datetime.date(2003, 10, 21), 'phone_number': '836-318-0192'},)\n",
      "({'name': 'Cynthia Welch', 'city': 'South Amandaton', 'state': 'Kansas', 'zip_code': '40133', 'country': 'Uruguay', 'email': 'daniel79@example.org', 'job': 'Education administrator', 'company': 'Lee, Poole and Perez', 'ssn': '352-89-7570', 'birthdate': datetime.date(1932, 4, 29), 'phone_number': '550-697-9011x72175'},)\n",
      "({'name': 'Hannah Glass', 'city': 'Port Steven', 'state': 'New Hampshire', 'zip_code': '31498', 'country': 'Thailand', 'email': 'joshuasolis@example.com', 'job': 'Engineer, biomedical', 'company': 'Wagner-Chan', 'ssn': '157-07-7981', 'birthdate': datetime.date(1994, 4, 6), 'phone_number': '714.364.1179'},)\n",
      "({'name': 'April Gonzalez', 'city': 'North Robert', 'state': 'Wyoming', 'zip_code': '35103', 'country': 'Guinea', 'email': 'hallpaul@example.com', 'job': 'Sub', 'company': 'Santos, Fitzgerald and Fritz', 'ssn': '346-33-8946', 'birthdate': datetime.date(2007, 11, 3), 'phone_number': '635-712-9242'},)\n",
      "({'name': 'Timothy Smith Jr.', 'city': 'New Gregory', 'state': 'South Carolina', 'zip_code': '83948', 'country': 'Israel', 'email': 'newmancarol@example.net', 'job': 'Research scientist (life sciences)', 'company': 'Hunter LLC', 'ssn': '717-29-2637', 'birthdate': datetime.date(1938, 11, 1), 'phone_number': '454-311-6022x036'},)\n",
      "({'name': 'Kathleen Watson', 'city': 'New Monique', 'state': 'Missouri', 'zip_code': '45261', 'country': 'Bolivia', 'email': 'cohenrachel@example.com', 'job': 'Community development worker', 'company': 'Hansen, Hurley and Gibson', 'ssn': '353-51-7806', 'birthdate': datetime.date(1991, 5, 15), 'phone_number': '693.901.5298'},)\n",
      "({'name': 'Thomas Snyder', 'city': 'South Karen', 'state': 'South Dakota', 'zip_code': '72363', 'country': 'Moldova', 'email': 'jessicawu@example.com', 'job': 'Medical secretary', 'company': 'Calderon and Sons', 'ssn': '347-11-7234', 'birthdate': datetime.date(1982, 9, 14), 'phone_number': '+1-503-484-5672x006'},)\n",
      "({'name': 'Sheena Parks', 'city': 'Port Donald', 'state': 'Vermont', 'zip_code': '94876', 'country': 'Spain', 'email': 'gfrank@example.org', 'job': 'Minerals surveyor', 'company': 'Mills Ltd', 'ssn': '020-14-2155', 'birthdate': datetime.date(1913, 10, 5), 'phone_number': '400.459.3822'},)\n",
      "({'name': 'Melissa Mason', 'city': 'West Alexander', 'state': 'Kansas', 'zip_code': '62074', 'country': 'Bahamas', 'email': 'holmesmark@example.org', 'job': 'Surveyor, building control', 'company': 'Jimenez-Mccall', 'ssn': '615-81-9873', 'birthdate': datetime.date(1957, 6, 14), 'phone_number': '(628)905-5737x84834'},)\n",
      "({'name': 'Anna Olsen', 'city': 'Deanhaven', 'state': 'South Carolina', 'zip_code': '88465', 'country': 'Bangladesh', 'email': 'wcastaneda@example.com', 'job': 'Environmental manager', 'company': 'Herman and Sons', 'ssn': '503-96-4916', 'birthdate': datetime.date(1951, 1, 4), 'phone_number': '9925956906'},)\n"
     ]
    }
   ],
   "source": [
    "con = duckdb.connect('udf.duck.db')\n",
    "\n",
    "con.create_function(\n",
    "    'generate_person',\n",
    "    generate_person,\n",
    "    [DOUBLE],\n",
    "    duckdb.struct_type({\n",
    "        'name': 'VARCHAR',\n",
    "        'city': 'VARCHAR',\n",
    "        'state': 'VARCHAR',\n",
    "        'zip_code': 'VARCHAR',\n",
    "        'country': 'VARCHAR',\n",
    "        'email': 'VARCHAR',\n",
    "        'job': 'VARCHAR',\n",
    "        'company': 'VARCHAR',\n",
    "        'ssn': 'VARCHAR',\n",
    "        'birthdate': 'DATE',\n",
    "        'phone_number': 'VARCHAR'\n",
    "    })\n",
    ")\n",
    "\n",
    "rows = con.sql(\"\"\"\n",
    "SELECT generate_person(random()) AS person\n",
    "FROM generate_series(1, 10)\n",
    "\"\"\").fetchall()\n",
    "for row in rows:\n",
    "    print(row)"
   ]
  },
  {
   "cell_type": "markdown",
   "id": "db8b7512-5374-4727-bfc1-c448dd251999",
   "metadata": {},
   "source": [
    "Now, each call to `generate_person` is unique, thanks to the `random()` function in our SQL query. It’s like telling the function, \"Please create a new, unique person each time.\"\n",
    "\n",
    "With this approach, we now have a powerful and flexible way to generate test data using DuckDB and Python, tailored to our needs. For beginners, it's like learning to create and use customized tools in a workshop, opening up a world of possibilities in data handling and manipulation."
   ]
  },
  {
   "cell_type": "code",
   "execution_count": 9,
   "id": "fdb5d807-5ba1-4afd-bc3d-0ba65861299d",
   "metadata": {},
   "outputs": [
    {
     "data": {
      "application/vnd.jupyter.widget-view+json": {
       "model_id": "53e96ee98863418eb686a79e0f001fe8",
       "version_major": 2,
       "version_minor": 0
      },
      "text/plain": [
       "FloatProgress(value=0.0, layout=Layout(width='auto'), style=ProgressStyle(bar_color='black'))"
      ]
     },
     "metadata": {},
     "output_type": "display_data"
    }
   ],
   "source": [
    "con.sql(\"\"\"\n",
    "CREATE OR REPLACE TABLE people AS\n",
    "SELECT person.* FROM (\n",
    "    SELECT generate_person(random()) AS person  \n",
    "    FROM generate_series(1, 10000)\n",
    "    )\n",
    "\"\"\")"
   ]
  },
  {
   "cell_type": "markdown",
   "id": "c87a9dca-2fa2-48e8-bb99-b3316ccc831c",
   "metadata": {},
   "source": [
    "This code snippet is creating a table and populating it with generated data. Let's break down what this code is doing:\n",
    "\n",
    "1. **`CREATE OR REPLACE TABLE people AS`**:\n",
    "   - This command creates a new table named `people` in the DuckDB database. If a table with this name already exists, it will be replaced (essentially, it's deleted and recreated). This is useful for refreshing the data or structure of the table without having to manually drop it first.\n",
    "\n",
    "2. **The Inner `SELECT` Statement**:\n",
    "   - `SELECT generate_person(random()) AS person`:\n",
    "     - This part of the query generates a row of data using the `generate_person` function.\n",
    "     - The `generate_person` function is assumed to be a user-defined function (UDF) in DuckDB that generates a structured record of a person with various attributes like name, city, etc.\n",
    "     - `random()` is a function that generates a random number. It seems to be passed as an argument to `generate_person`, likely to ensure that each call to `generate_person` results in a unique record by using a different random seed. \n",
    "     - `AS person` aliases the result of `generate_person(random())` as `person`. This means that in the context of this query, the output of `generate_person(random())` is referred to as `person`.\n",
    "\n",
    "3. **`FROM generate_series(1, 10000)`**:\n",
    "   - This part generates a series of numbers from 1 to 10,000. For each number in this series, the `SELECT generate_person(random())` is executed. This means that the `generate_person` function is called 10,000 times, creating 10,000 unique records.\n",
    "\n",
    "4. **The Outer `SELECT` Statement**:\n",
    "   - `SELECT person.* FROM (...)`:\n",
    "     - This outer `SELECT` statement selects all columns from each record generated by `generate_person(random())` and arranges them into rows of the `people` table. The use of `person.*` indicates that all attributes of the `person` record should be included in the table.\n",
    "\n",
    "In summary, this code is used to create a table named `people` in a DuckDB database and populate it with 10,000 unique rows of data, each row representing a person with various attributes. The data for each person is generated by the `generate_person` function, which appears to create diverse and random data for each person. This technique is especially useful for generating large sets of test data.\n",
    "\n",
    "### Display our generated data\n",
    "\n",
    "We will now employ various methods to verify and examine the data we have generated and stored in our database."
   ]
  },
  {
   "cell_type": "code",
   "execution_count": 10,
   "id": "9b1ccb45-2aa4-4168-a32d-330ffa384bb7",
   "metadata": {},
   "outputs": [],
   "source": [
    "query = \"SELECT * FROM people ORDER BY RANDOM() LIMIT 5;\""
   ]
  },
  {
   "cell_type": "code",
   "execution_count": 11,
   "id": "a4efe6af-d492-4b9e-8fff-3eec2f05361f",
   "metadata": {},
   "outputs": [],
   "source": [
    "result = con.execute(query)"
   ]
  },
  {
   "cell_type": "code",
   "execution_count": 12,
   "id": "57c83029-3ab8-43a8-9ec7-e80388606305",
   "metadata": {},
   "outputs": [],
   "source": [
    "rows = result.fetchall()"
   ]
  },
  {
   "cell_type": "code",
   "execution_count": 13,
   "id": "f208107f-9bad-4038-ab52-89983aae6085",
   "metadata": {},
   "outputs": [
    {
     "name": "stdout",
     "output_type": "stream",
     "text": [
      "('Brian Wolf', 'Waynehaven', 'Wisconsin', '08333', 'Cape Verde', 'dana74@example.net', 'Financial adviser', 'Russell LLC', '040-05-7683', datetime.date(2002, 8, 22), '240-447-8269')\n",
      "('Jerry Smith', 'Port Michael', 'Washington', '84743', 'Pakistan', 'melissa67@example.com', 'Programmer, systems', 'Moore, Foster and Mitchell', '374-58-8406', datetime.date(2011, 4, 5), '657-346-6548x310')\n",
      "('Tony Gonzales', 'New Heather', 'Illinois', '84194', 'Heard Island and McDonald Islands', 'ann77@example.com', 'Producer, television/film/video', 'Miller Group', '438-59-1081', datetime.date(1987, 9, 11), '+1-916-914-5582x8441')\n",
      "('David Hickman', 'North Eric', 'Louisiana', '55622', 'Argentina', 'matalarry@example.net', 'Dance movement psychotherapist', 'Rivera, Pittman and Orozco', '540-74-0081', datetime.date(2015, 12, 3), '313-341-7514x72204')\n",
      "('Nancy Clements', 'Stephaniemouth', 'Delaware', '00939', 'Gambia', 'sanderssarah@example.org', 'Arts administrator', 'Williams-Brown', '670-26-5114', datetime.date(1959, 8, 1), '759.858.5832x66035')\n"
     ]
    }
   ],
   "source": [
    "for row in rows:\n",
    "    print(row)"
   ]
  },
  {
   "cell_type": "code",
   "execution_count": 14,
   "id": "c4db6c41-3dfa-41cb-91b7-048a8b0314cf",
   "metadata": {},
   "outputs": [
    {
     "name": "stdout",
     "output_type": "stream",
     "text": [
      "Number of rows in 'people': 10000\n"
     ]
    }
   ],
   "source": [
    "#  Execute the First Query\n",
    "query = \"SELECT COUNT(*) FROM people;\"\n",
    "row_count = con.execute(query).fetchone()\n",
    "\n",
    "# Display the Result\n",
    "print(\"Number of rows in 'people':\", row_count[0])"
   ]
  },
  {
   "cell_type": "code",
   "execution_count": 15,
   "id": "cb3bd22c-a043-4873-b9da-a180b479194d",
   "metadata": {},
   "outputs": [
    {
     "name": "stdout",
     "output_type": "stream",
     "text": [
      "('Stacey Pratt', 'Port Daniel', 'Arkansas', '85990', 'Syrian Arab Republic', 'uwarner@example.net', 'Therapist, speech and language', 'Sullivan-Thomas', '515-58-6703', datetime.date(2024, 2, 9), '+1-966-832-1511x417')\n",
      "('David Watkins', 'Skinnerborough', 'Maryland', '44041', 'Macao', 'sedwards@example.org', 'Engineer, manufacturing', 'Weaver LLC', '035-51-1158', datetime.date(1971, 3, 10), '827-546-2880')\n",
      "('Jonathan Sampson', 'Hannahtown', 'Nebraska', '67966', 'Tunisia', 'andreamcgee@example.com', 'Trade mark attorney', 'Fields-Henderson', '123-98-2248', datetime.date(2010, 7, 4), '3097651941')\n",
      "('Thomas Coleman', 'Sabrinashire', 'Oklahoma', '28417', 'Saudi Arabia', 'marieyang@example.org', 'Film/video editor', 'Tran, Anderson and Smith', '651-45-3497', datetime.date(1957, 5, 31), '001-565-609-3892')\n",
      "('Suzanne Jackson', 'Jessicaville', 'Minnesota', '95997', 'Antarctica (the territory South of 60 deg S)', 'kmadden@example.com', 'Air cabin crew', 'Hart-Wagner', '828-72-9535', datetime.date(2008, 12, 1), '875.786.6969x5960')\n"
     ]
    }
   ],
   "source": [
    "# Execute the Second Query\n",
    "query = \"SELECT * FROM people LIMIT 5;\"\n",
    "rows = con.execute(query).fetchall()\n",
    "\n",
    "# Display the Results\n",
    "for row in rows:\n",
    "    print(row)"
   ]
  },
  {
   "cell_type": "markdown",
   "id": "7ff0ab41-487c-4f01-b525-1c91c2304a68",
   "metadata": {},
   "source": [
    "All appears to have gone smoothly.\r\n",
    "\r\n",
    "That concludes this post. I trust you found as much pleasure in reading it as I did in writing it.\n",
    "\n",
    "---\n",
    "\n",
    "*This insightful exploration into the functionalities of DuckDB, particularly the creation of dummy data using user-defined functions, is inspired by the work of Mark Needham. Mark is a prolific content creator in the data field, currently focusing on short-form content at ClickHouse. His expertise is evident in his engaging YouTube channel, [LearnDataWithMark](https://www.youtube.com/@learndatawithmark), where he simplifies complex data problems into concise, 5-minute tutorials. His previous experience at Neo4j, especially in graph analytics, further solidifies his stature in the community, as does his co-authorship of the O'Reilly Graph Algorithms Book with Amy Hodler. The original post that sparked this discussion can be found on Mark's blog [here](https://www.markhneedham.com/blog/2023/06/02/duckdb-dummy-data-user-defined-functions/). Mark's clear and practical approach to data is not only enlightening but also instrumental in making advanced data concepts accessible to a wider audience.*"
   ]
  },
  {
   "cell_type": "code",
   "execution_count": null,
   "id": "cc03b73b-313b-4f25-b6ed-b17c69200414",
   "metadata": {},
   "outputs": [],
   "source": []
  }
 ],
 "metadata": {
  "kernelspec": {
   "display_name": "Python 3 (ipykernel)",
   "language": "python",
   "name": "python3"
  },
  "language_info": {
   "codemirror_mode": {
    "name": "ipython",
    "version": 3
   },
   "file_extension": ".py",
   "mimetype": "text/x-python",
   "name": "python",
   "nbconvert_exporter": "python",
   "pygments_lexer": "ipython3",
   "version": "3.10.12"
  }
 },
 "nbformat": 4,
 "nbformat_minor": 5
}
