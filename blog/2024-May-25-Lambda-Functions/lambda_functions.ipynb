{
 "cells": [
  {
   "cell_type": "raw",
   "metadata": {},
   "source": [
    "---\n",
    "title: \"Lambda Functions: How I tend to use them\"\n",
    "author: \"Ricky Macharm\"\n",
    "date: \"25 May 2024\"\n",
    "image: lambda_letter.png\n",
    "categories: [Functions, Lambda Functions, pandas, Methods, Method Chaining, Groupby, Aggregation] # self-defined categories\n",
    "format: html\n",
    "execute:\n",
    "    eval: true\n",
    "jupyter: python3\n",
    "---"
   ]
  },
  {
   "cell_type": "markdown",
   "metadata": {
    "id": "uqSBbu5E9ulI"
   },
   "source": [
    "## **Introduction**\n",
    "\n",
    "In programming, you often find yourself repeating the same logic multiple times. When this happens, it's usually a good idea to use a function. Functions allow us to encapsulate commonly or repeatedly executed tasks, so instead of writing the same code over and over, we can simply call a function with different inputs, thereby reusing the code efficiently.\n",
    "\n",
    "Before diving into lambda functions, let's first understand regular functions.\n",
    "\n",
    "### **Regular Functions**\n",
    "\n",
    "In Python, a function is defined using the `def` keyword, followed by the function name and parentheses `()`, which may include parameters, a body of code to be executed, and a `return` statement that specifies the value to be returned. The general syntax is:\n",
    "\n",
    "```python\n",
    "def function_name(parameters):\n",
    "    # function body\n",
    "    return output\n",
    "```\n",
    "\n",
    "For instance, suppose you frequently need to sum two values in your code. You could write a function to handle this task:\n",
    "\n",
    "```python\n",
    "def add_values(value1, value2):\n",
    "    return value1 + value2\n",
    "```\n",
    "\n",
    "The function `add_values` takes two arguments, `value1` and `value2`, and returns their sum. Here's a breakdown of how the function works:\n",
    "\n",
    "1. **Function Definition**:\n",
    "    ```python\n",
    "    def add_values(value1, value2):\n",
    "    ```\n",
    "    - The function `add_values` is defined with two parameters: `value1` and `value2`.\n",
    "\n",
    "2. **Summing the Values**:\n",
    "    ```python\n",
    "    return value1 + value2\n",
    "    ```\n",
    "    - The function returns the result of adding `value1` and `value2`.\n",
    "\n",
    "\n",
    "Here is an example of how you might use this function:\n",
    "\n",
    "```python\n",
    "result = add_values(3, 5)\n",
    "print(result)  # Output: 8\n",
    "```\n",
    "\n",
    "When the function `add_values` is called with the arguments `3` and `5`, it computes and returns their sum, which is `8`.\n",
    "\n",
    "\n",
    "In `add_values`, the function name is `add_values`, and it takes two parameters: `value1` and `value2`.\n",
    "\n",
    "#### Parameters and Arguments\n",
    "\n",
    "- **Parameters** are variables listed inside the parentheses in the function definition.\n",
    "- **Arguments** are the values that you pass into the function when you call it.\n",
    "\n",
    "In `add_values`, `value1` and `value2` are parameters, and when you call the function like `add_values(3, 5)`, `3` and `5` are the arguments.\n",
    "\n",
    "#### Return Statement\n",
    "\n",
    "The `return` statement ends the function execution and specifies what value should be returned to the caller:\n",
    "\n",
    "```python\n",
    "return value1 + value2\n",
    "```\n",
    "\n",
    "The function returns the sum of `value1` and `value2`.\n",
    "\n",
    "### **Lambda Functions**\n",
    "\n",
    "Lambda functions, also known as anonymous functions, are a shorter way to write functions in Python. They are defined using the `lambda` keyword instead of `def`. These functions are quick, simple, and used for short-term tasks. They are particularly useful in scenarios where a full function definition would be overkill.\n",
    "\n",
    "Here is how you can write the same `add_values` function using a lambda function:\n",
    "\n",
    "```python\n",
    "# regular function\n",
    "def add_values(value1, value2): return value1 + value2\n",
    "\n",
    "# lambda function\n",
    "add_values = lambda value1, value2: value1 + value2\n",
    "```\n",
    "\n",
    "Both the regular function and the lambda function accomplish the same task: summing any two numbers passed to them. The main differences are that lambda functions use the `lambda` keyword, do not have a name (unless assigned to a variable like we did above), and do not require a `return` statement—the result is implicitly returned.\n",
    "\n",
    "Regular functions and lambda functions each have their own use cases. Regular functions are more versatile and easier to read, especially for complex operations. Lambda functions are more concise and are often used for short-term tasks and in places where a small function is required temporarily, such as in method chaining or as arguments to higher-order functions.\n",
    "\n",
    "In this article, we will focus on how lambda functions can be utilized effectively in your code, particularly in the context of method chaining in pandas."
   ]
  },
  {
   "cell_type": "markdown",
   "metadata": {
    "id": "bqU1Phk_J3l_"
   },
   "source": [
    "### **Chaining in pandas**\n",
    "\n",
    "In pandas, chaining methods is often preferred over using operators for manipulating data because it enhances readability and maintains a functional style. Since most pandas methods return a new object rather than modifying the original data in place, you can continuously chain method calls on the returned objects. This approach leads to cleaner and more understandable code. Although chaining with operators is possible, it usually requires wrapping operations in parentheses.\n",
    "\n",
    "#### **Methods and Functions**\n",
    "\n",
    "Methods and functions serve similar purposes in programming. Both encapsulate reusable blocks of code, but methods are functions that belong to objects, allowing them to operate on the data contained within those objects. Functions, on the other hand, are standalone units that can be called independently.\n",
    "\n",
    "## A Deeper dive\n",
    "\n",
    "What we are going to do here is to play around with a couple of datasets and deploy what w have been talking about in code.\n",
    "\n",
    "We have a stock data we created (also called syntehtic data) and we will take the time to prepare it. First we will load it with pandas and display its information.\n",
    "\n"
   ]
  },
  {
   "cell_type": "code",
   "execution_count": 1,
   "metadata": {
    "colab": {
     "base_uri": "https://localhost:8080/"
    },
    "id": "h8y6Z565938M",
    "outputId": "9a9fc032-5930-48ed-98e2-a41a1814028a"
   },
   "outputs": [],
   "source": [
    "import pandas as pd"
   ]
  },
  {
   "cell_type": "code",
   "execution_count": 2,
   "metadata": {},
   "outputs": [
    {
     "name": "stdout",
     "output_type": "stream",
     "text": [
      "<class 'pandas.core.frame.DataFrame'>\n",
      "RangeIndex: 347 entries, 0 to 346\n",
      "Data columns (total 2 columns):\n",
      " #   Column  Non-Null Count  Dtype  \n",
      "---  ------  --------------  -----  \n",
      " 0   Date    347 non-null    object \n",
      " 1   Close   347 non-null    float64\n",
      "dtypes: float64(1), object(1)\n",
      "memory usage: 5.5+ KB\n"
     ]
    }
   ],
   "source": [
    "url = 'synthetic_stock_data.csv'\n",
    "data = pd.read_csv(url)\n",
    "data.info()"
   ]
  },
  {
   "cell_type": "markdown",
   "metadata": {
    "colab": {
     "base_uri": "https://localhost:8080/"
    },
    "id": "mWsQ1J8Oie56",
    "outputId": "7b29a341-12c9-4b35-f650-11293260a000"
   },
   "source": [
    "\r\n",
    "The output above reveals that the `Date` column has a `Dtype` of `object`, indicating that Python will treat the values in this column as strings. If we attempt to create a new column to display the name of the month based on the `Date` column, Python will not be able to interpret the string values correctly.\r\n",
    "\r\n",
    "To handle this situation effectively, we will adopt a step-by-step approach. The initial step involves converting the `Date` column from its current `object` type to a `Datetime` type. This conversion will enable Python to recognize and work with the dates properly, facilitating the extraction of relevant information such as the month name.\r\n",
    "\r\n",
    "By transforming the `Date` column to a `Datetime` type, we lay the foundation for performing meaningful operations and analyses on the date values. This step is crucial in ensuring that Python can correctly interpret and manipulate the dates, allowing us to create new columns or derive insights based on the temporal information contained within the `Date` column."
   ]
  },
  {
   "cell_type": "code",
   "execution_count": 3,
   "metadata": {},
   "outputs": [
    {
     "name": "stdout",
     "output_type": "stream",
     "text": [
      "<class 'pandas.core.frame.DataFrame'>\n",
      "RangeIndex: 347 entries, 0 to 346\n",
      "Data columns (total 2 columns):\n",
      " #   Column  Non-Null Count  Dtype         \n",
      "---  ------  --------------  -----         \n",
      " 0   Date    347 non-null    datetime64[ns]\n",
      " 1   Close   347 non-null    float64       \n",
      "dtypes: datetime64[ns](1), float64(1)\n",
      "memory usage: 5.5 KB\n"
     ]
    }
   ],
   "source": [
    "data['Date'] = pd.to_datetime(data['Date'])\n",
    "data.info()"
   ]
  },
  {
   "cell_type": "markdown",
   "metadata": {},
   "source": [
    "After converting the `Date` column to datetime, you can access various attributes and methods to extract information from the dates. For example:\n",
    "\n",
    "```python\n",
    "# Extract the month name\n",
    "df['Month'] = df['Date'].dt.month_name()\n",
    "\n",
    "# Extract the year\n",
    "df['Year'] = df['Date'].dt.year\n",
    "\n",
    "# Extract the day of the month\n",
    "df['Day'] = df['Date'].dt.day\n",
    "```\n",
    "Let's add a new column to the DataFrame that contains the month names. To ensure reproducibility when using the `sample()` method in pandas, we'll set a seed by passing the `random_state` parameter.\n",
    "\n",
    "By setting a seed value, we guarantee that the `sample()` method will always select the same set of random rows each time the code is executed. This is particularly useful when you want others to be able to reproduce the same results as you, especially in a learning or collaborative environment.\n",
    "\n",
    "If having consistent random selections is not important for your specific use case, feel free to modify the `random_state` value or remove it entirely."
   ]
  },
  {
   "cell_type": "code",
   "execution_count": 4,
   "metadata": {},
   "outputs": [
    {
     "data": {
      "text/html": [
       "<div>\n",
       "<style scoped>\n",
       "    .dataframe tbody tr th:only-of-type {\n",
       "        vertical-align: middle;\n",
       "    }\n",
       "\n",
       "    .dataframe tbody tr th {\n",
       "        vertical-align: top;\n",
       "    }\n",
       "\n",
       "    .dataframe thead th {\n",
       "        text-align: right;\n",
       "    }\n",
       "</style>\n",
       "<table border=\"1\" class=\"dataframe\">\n",
       "  <thead>\n",
       "    <tr style=\"text-align: right;\">\n",
       "      <th></th>\n",
       "      <th>Date</th>\n",
       "      <th>Close</th>\n",
       "      <th>Month</th>\n",
       "    </tr>\n",
       "  </thead>\n",
       "  <tbody>\n",
       "    <tr>\n",
       "      <th>217</th>\n",
       "      <td>2023-11-01</td>\n",
       "      <td>3123.753804</td>\n",
       "      <td>November</td>\n",
       "    </tr>\n",
       "    <tr>\n",
       "      <th>258</th>\n",
       "      <td>2023-12-28</td>\n",
       "      <td>3066.558857</td>\n",
       "      <td>December</td>\n",
       "    </tr>\n",
       "    <tr>\n",
       "      <th>15</th>\n",
       "      <td>2023-01-23</td>\n",
       "      <td>3227.238722</td>\n",
       "      <td>January</td>\n",
       "    </tr>\n",
       "    <tr>\n",
       "      <th>294</th>\n",
       "      <td>2024-02-16</td>\n",
       "      <td>3843.574952</td>\n",
       "      <td>February</td>\n",
       "    </tr>\n",
       "    <tr>\n",
       "      <th>17</th>\n",
       "      <td>2023-01-25</td>\n",
       "      <td>3063.817256</td>\n",
       "      <td>January</td>\n",
       "    </tr>\n",
       "  </tbody>\n",
       "</table>\n",
       "</div>"
      ],
      "text/plain": [
       "          Date        Close     Month\n",
       "217 2023-11-01  3123.753804  November\n",
       "258 2023-12-28  3066.558857  December\n",
       "15  2023-01-23  3227.238722   January\n",
       "294 2024-02-16  3843.574952  February\n",
       "17  2023-01-25  3063.817256   January"
      ]
     },
     "execution_count": 4,
     "metadata": {},
     "output_type": "execute_result"
    }
   ],
   "source": [
    "data['Month'] = data['Date'].dt.month_name()\n",
    "data.sample(5, random_state=43)"
   ]
  },
  {
   "cell_type": "markdown",
   "metadata": {},
   "source": [
    "In this code, we create a new column called `Month` using `data['Date'].dt.month_name()`, which extracts the month name from each date in the `Date` column.\n",
    "\n",
    "Then, we use `data.sample(5, random_state=43)` to randomly select 5 rows from the `data` DataFrame. The `random_state=43` parameter sets the seed value to 43, ensuring that the same set of random rows will be displayed each time the code is run.\n",
    "\n",
    "By setting the seed, anyone following along with this code will see the same randomly selected rows as you do, facilitating consistency and reproducibility in a learning or collaborative setting.\n",
    "\n",
    "We all know the drill up to this point. We will round up here by creating a function that we can call anytime that will do all we have done above in one go."
   ]
  },
  {
   "cell_type": "code",
   "execution_count": 5,
   "metadata": {},
   "outputs": [],
   "source": [
    "def tweak_data(url):\n",
    "    \"\"\"\n",
    "    Reads a CSV file from a given URL, performs data modifications, and returns the updated DataFrame.\n",
    "\n",
    "    Args:\n",
    "        url (str): The URL of the CSV file to be read.\n",
    "\n",
    "    Returns:\n",
    "        pd.DataFrame: The modified DataFrame with a new 'Month' column and converted 'Date' column.\n",
    "    \"\"\"\n",
    "    # Read the CSV file from the specified URL into a DataFrame\n",
    "    data = pd.read_csv(url)\n",
    "    \n",
    "    # Convert the 'Date' column to datetime format\n",
    "    data['Date'] = pd.to_datetime(data['Date'])\n",
    "    \n",
    "    # Create a new 'Month' column by extracting the month name from the 'Date' column\n",
    "    \n",
    "    data['Month'] = data['Date'].dt.month_name()\n",
    "    \n",
    "    # Return the modified DataFrame\n",
    "    return data"
   ]
  },
  {
   "cell_type": "code",
   "execution_count": 6,
   "metadata": {},
   "outputs": [
    {
     "data": {
      "text/html": [
       "<div>\n",
       "<style scoped>\n",
       "    .dataframe tbody tr th:only-of-type {\n",
       "        vertical-align: middle;\n",
       "    }\n",
       "\n",
       "    .dataframe tbody tr th {\n",
       "        vertical-align: top;\n",
       "    }\n",
       "\n",
       "    .dataframe thead th {\n",
       "        text-align: right;\n",
       "    }\n",
       "</style>\n",
       "<table border=\"1\" class=\"dataframe\">\n",
       "  <thead>\n",
       "    <tr style=\"text-align: right;\">\n",
       "      <th></th>\n",
       "      <th>Date</th>\n",
       "      <th>Close</th>\n",
       "      <th>Month</th>\n",
       "    </tr>\n",
       "  </thead>\n",
       "  <tbody>\n",
       "    <tr>\n",
       "      <th>217</th>\n",
       "      <td>2023-11-01</td>\n",
       "      <td>3123.753804</td>\n",
       "      <td>November</td>\n",
       "    </tr>\n",
       "    <tr>\n",
       "      <th>258</th>\n",
       "      <td>2023-12-28</td>\n",
       "      <td>3066.558857</td>\n",
       "      <td>December</td>\n",
       "    </tr>\n",
       "    <tr>\n",
       "      <th>15</th>\n",
       "      <td>2023-01-23</td>\n",
       "      <td>3227.238722</td>\n",
       "      <td>January</td>\n",
       "    </tr>\n",
       "    <tr>\n",
       "      <th>294</th>\n",
       "      <td>2024-02-16</td>\n",
       "      <td>3843.574952</td>\n",
       "      <td>February</td>\n",
       "    </tr>\n",
       "    <tr>\n",
       "      <th>17</th>\n",
       "      <td>2023-01-25</td>\n",
       "      <td>3063.817256</td>\n",
       "      <td>January</td>\n",
       "    </tr>\n",
       "  </tbody>\n",
       "</table>\n",
       "</div>"
      ],
      "text/plain": [
       "          Date        Close     Month\n",
       "217 2023-11-01  3123.753804  November\n",
       "258 2023-12-28  3066.558857  December\n",
       "15  2023-01-23  3227.238722   January\n",
       "294 2024-02-16  3843.574952  February\n",
       "17  2023-01-25  3063.817256   January"
      ]
     },
     "execution_count": 6,
     "metadata": {},
     "output_type": "execute_result"
    }
   ],
   "source": [
    "data = tweak_data(url)\n",
    "data.sample(5, random_state=43)"
   ]
  },
  {
   "cell_type": "markdown",
   "metadata": {},
   "source": [
    "Basic stuff thus far.\n",
    "\n",
    "## **Chaining**\n",
    "\n",
    "Let us now use the Method chaining we have been alluding to right from the begining and see how lambda functions help. We will start from the beginning and build slowly."
   ]
  },
  {
   "cell_type": "code",
   "execution_count": 7,
   "metadata": {},
   "outputs": [
    {
     "name": "stdout",
     "output_type": "stream",
     "text": [
      "<class 'pandas.core.frame.DataFrame'>\n",
      "RangeIndex: 347 entries, 0 to 346\n",
      "Data columns (total 2 columns):\n",
      " #   Column  Non-Null Count  Dtype  \n",
      "---  ------  --------------  -----  \n",
      " 0   Date    347 non-null    object \n",
      " 1   Close   347 non-null    float64\n",
      "dtypes: float64(1), object(1)\n",
      "memory usage: 5.5+ KB\n"
     ]
    }
   ],
   "source": [
    "url = 'synthetic_stock_data.csv'\n",
    "data = pd.read_csv(url)\n",
    "data.info()"
   ]
  },
  {
   "cell_type": "markdown",
   "metadata": {},
   "source": [
    "This is the same step as before. The next steps are what will make the process wonderful. We want to change the `Date` column to `Datetime` using the `assign` method in pandas."
   ]
  },
  {
   "cell_type": "code",
   "execution_count": 8,
   "metadata": {},
   "outputs": [
    {
     "name": "stdout",
     "output_type": "stream",
     "text": [
      "<class 'pandas.core.frame.DataFrame'>\n",
      "RangeIndex: 347 entries, 0 to 346\n",
      "Data columns (total 2 columns):\n",
      " #   Column  Non-Null Count  Dtype         \n",
      "---  ------  --------------  -----         \n",
      " 0   Date    347 non-null    datetime64[ns]\n",
      " 1   Close   347 non-null    float64       \n",
      "dtypes: datetime64[ns](1), float64(1)\n",
      "memory usage: 5.5 KB\n"
     ]
    }
   ],
   "source": [
    "(data\n",
    " .assign(Date = pd.to_datetime(data['Date']))\n",
    ").info()"
   ]
  },
  {
   "cell_type": "markdown",
   "metadata": {},
   "source": [
    "- The `.assign()` method creates a new DataFrame with the specified modifications without altering the original DataFrame. In this case, it converts the `Date` column to datetime format and returns a new DataFrame with the updated `Date` column.\n",
    "\n",
    "- The original `data` DataFrame is not modified because the `.assign()` method is used within the context of the method chain `(data.assign(...)).info()`. The modifications are applied to a temporary DataFrame returned by `.assign()`, and the `.info()` method is called on that temporary DataFrame.\n",
    "\n",
    "- After the `.info()` method is called, the temporary DataFrame is discarded, and the original 'data' DataFrame remains unchanged.\n",
    "\n",
    "To verify that the `data` DataFrame is still in its original state, you can execute `data.info()` separately after running the code snippet. You will observe that the 'Date' column in the 'data' DataFrame has not been converted to datetime format.\n",
    "\n",
    "We are next going to create a new column like we did above. The `.assign` method allows you to multiple columns to be modified or created with one call. Ideally this would be our code:\n",
    "\n",
    "```python\n",
    "(data\n",
    " .assign(Date = pd.to_datetime(data['Date']),\n",
    " Month = data['Date'].dt.month_name())\n",
    ")\n",
    "```\n",
    "This code will give us an error however. This error (`AttributeError` in this case) occurs because we need the Date column to be in Datetime format which is not the case since the last operation we performed in the chain did not modify the `data` DataFrame in place, and therefore the output of that operation is not available for this new line to use. Instead, the second assignment still sees the original `Date`, which is not yet in datetime format.\n",
    "\n",
    "**Lambda Functions to the rescue**\n",
    "\n",
    "Lambda functions can be used to ensure that each assignment within `.assign()` is evaluated in the correct order. By using lambda functions, you can ensure that the `Date` column is first converted to datetime before the `Month` column tries to access it."
   ]
  },
  {
   "cell_type": "code",
   "execution_count": 9,
   "metadata": {},
   "outputs": [
    {
     "data": {
      "text/html": [
       "<div>\n",
       "<style scoped>\n",
       "    .dataframe tbody tr th:only-of-type {\n",
       "        vertical-align: middle;\n",
       "    }\n",
       "\n",
       "    .dataframe tbody tr th {\n",
       "        vertical-align: top;\n",
       "    }\n",
       "\n",
       "    .dataframe thead th {\n",
       "        text-align: right;\n",
       "    }\n",
       "</style>\n",
       "<table border=\"1\" class=\"dataframe\">\n",
       "  <thead>\n",
       "    <tr style=\"text-align: right;\">\n",
       "      <th></th>\n",
       "      <th>Date</th>\n",
       "      <th>Close</th>\n",
       "      <th>Month</th>\n",
       "    </tr>\n",
       "  </thead>\n",
       "  <tbody>\n",
       "    <tr>\n",
       "      <th>217</th>\n",
       "      <td>2023-11-01</td>\n",
       "      <td>3123.753804</td>\n",
       "      <td>November</td>\n",
       "    </tr>\n",
       "    <tr>\n",
       "      <th>258</th>\n",
       "      <td>2023-12-28</td>\n",
       "      <td>3066.558857</td>\n",
       "      <td>December</td>\n",
       "    </tr>\n",
       "    <tr>\n",
       "      <th>15</th>\n",
       "      <td>2023-01-23</td>\n",
       "      <td>3227.238722</td>\n",
       "      <td>January</td>\n",
       "    </tr>\n",
       "    <tr>\n",
       "      <th>294</th>\n",
       "      <td>2024-02-16</td>\n",
       "      <td>3843.574952</td>\n",
       "      <td>February</td>\n",
       "    </tr>\n",
       "    <tr>\n",
       "      <th>17</th>\n",
       "      <td>2023-01-25</td>\n",
       "      <td>3063.817256</td>\n",
       "      <td>January</td>\n",
       "    </tr>\n",
       "  </tbody>\n",
       "</table>\n",
       "</div>"
      ],
      "text/plain": [
       "          Date        Close     Month\n",
       "217 2023-11-01  3123.753804  November\n",
       "258 2023-12-28  3066.558857  December\n",
       "15  2023-01-23  3227.238722   January\n",
       "294 2024-02-16  3843.574952  February\n",
       "17  2023-01-25  3063.817256   January"
      ]
     },
     "execution_count": 9,
     "metadata": {},
     "output_type": "execute_result"
    }
   ],
   "source": [
    "(data\n",
    " .assign(Date = pd.to_datetime(data['Date']),\n",
    " Month = lambda x: x['Date'].dt.month_name())\n",
    ").sample(5, random_state=43)"
   ]
  },
  {
   "cell_type": "markdown",
   "metadata": {},
   "source": [
    "The word `lambda` is introduced to create an anonymous function. The variable `data` is changed to `x` (or any other placeholder) to represent the DataFrame within the lambda function.\n",
    "\n",
    "We will next create a function that we can call anytime to process a similar dataset."
   ]
  },
  {
   "cell_type": "code",
   "execution_count": 10,
   "metadata": {},
   "outputs": [],
   "source": [
    "def tweak_data():\n",
    "    return (data\n",
    "             .assign(Date = pd.to_datetime(data['Date']),\n",
    "             Month = lambda x: x['Date'].dt.month_name())\n",
    "            )"
   ]
  },
  {
   "cell_type": "code",
   "execution_count": 11,
   "metadata": {},
   "outputs": [
    {
     "data": {
      "text/html": [
       "<div>\n",
       "<style scoped>\n",
       "    .dataframe tbody tr th:only-of-type {\n",
       "        vertical-align: middle;\n",
       "    }\n",
       "\n",
       "    .dataframe tbody tr th {\n",
       "        vertical-align: top;\n",
       "    }\n",
       "\n",
       "    .dataframe thead th {\n",
       "        text-align: right;\n",
       "    }\n",
       "</style>\n",
       "<table border=\"1\" class=\"dataframe\">\n",
       "  <thead>\n",
       "    <tr style=\"text-align: right;\">\n",
       "      <th></th>\n",
       "      <th>Date</th>\n",
       "      <th>Close</th>\n",
       "      <th>Month</th>\n",
       "    </tr>\n",
       "  </thead>\n",
       "  <tbody>\n",
       "    <tr>\n",
       "      <th>217</th>\n",
       "      <td>2023-11-01</td>\n",
       "      <td>3123.753804</td>\n",
       "      <td>November</td>\n",
       "    </tr>\n",
       "    <tr>\n",
       "      <th>258</th>\n",
       "      <td>2023-12-28</td>\n",
       "      <td>3066.558857</td>\n",
       "      <td>December</td>\n",
       "    </tr>\n",
       "    <tr>\n",
       "      <th>15</th>\n",
       "      <td>2023-01-23</td>\n",
       "      <td>3227.238722</td>\n",
       "      <td>January</td>\n",
       "    </tr>\n",
       "    <tr>\n",
       "      <th>294</th>\n",
       "      <td>2024-02-16</td>\n",
       "      <td>3843.574952</td>\n",
       "      <td>February</td>\n",
       "    </tr>\n",
       "    <tr>\n",
       "      <th>17</th>\n",
       "      <td>2023-01-25</td>\n",
       "      <td>3063.817256</td>\n",
       "      <td>January</td>\n",
       "    </tr>\n",
       "  </tbody>\n",
       "</table>\n",
       "</div>"
      ],
      "text/plain": [
       "          Date        Close     Month\n",
       "217 2023-11-01  3123.753804  November\n",
       "258 2023-12-28  3066.558857  December\n",
       "15  2023-01-23  3227.238722   January\n",
       "294 2024-02-16  3843.574952  February\n",
       "17  2023-01-25  3063.817256   January"
      ]
     },
     "execution_count": 11,
     "metadata": {},
     "output_type": "execute_result"
    }
   ],
   "source": [
    "data = tweak_data()\n",
    "data.sample(5, random_state=43)"
   ]
  },
  {
   "cell_type": "markdown",
   "metadata": {},
   "source": [
    "I want to rewrite this function so it comes out like the first function we created above by reading the CSV in the function itself. In this case since we won't have  the `data` DataFrame, we will have to use the lambda function both places."
   ]
  },
  {
   "cell_type": "code",
   "execution_count": 12,
   "metadata": {},
   "outputs": [],
   "source": [
    "url = 'synthetic_stock_data.csv'\n",
    "\n",
    "def tweak_data(url):\n",
    "    \"\"\"\n",
    "    Reads a CSV file from a given URL, performs data modifications, and returns the updated DataFrame.\n",
    "\n",
    "    Args:\n",
    "        url (str): The URL of the CSV file to be read.\n",
    "\n",
    "    Returns:\n",
    "        pd.DataFrame: The modified DataFrame with a new 'Month' column and converted 'Date' column.\n",
    "    \"\"\"\n",
    "    return (pd.read_csv(url)\n",
    "            # Convert the 'Date' column to datetime format\n",
    "            .assign(Date=lambda x: pd.to_datetime(x['Date']),\n",
    "            # Create a new 'Month' column by extracting the month name from the 'Date' column\n",
    "                    Month=lambda x: x['Date'].dt.month_name())\n",
    "           )"
   ]
  },
  {
   "cell_type": "code",
   "execution_count": 13,
   "metadata": {},
   "outputs": [
    {
     "data": {
      "text/html": [
       "<div>\n",
       "<style scoped>\n",
       "    .dataframe tbody tr th:only-of-type {\n",
       "        vertical-align: middle;\n",
       "    }\n",
       "\n",
       "    .dataframe tbody tr th {\n",
       "        vertical-align: top;\n",
       "    }\n",
       "\n",
       "    .dataframe thead th {\n",
       "        text-align: right;\n",
       "    }\n",
       "</style>\n",
       "<table border=\"1\" class=\"dataframe\">\n",
       "  <thead>\n",
       "    <tr style=\"text-align: right;\">\n",
       "      <th></th>\n",
       "      <th>Date</th>\n",
       "      <th>Close</th>\n",
       "      <th>Month</th>\n",
       "    </tr>\n",
       "  </thead>\n",
       "  <tbody>\n",
       "    <tr>\n",
       "      <th>217</th>\n",
       "      <td>2023-11-01</td>\n",
       "      <td>3123.753804</td>\n",
       "      <td>November</td>\n",
       "    </tr>\n",
       "    <tr>\n",
       "      <th>258</th>\n",
       "      <td>2023-12-28</td>\n",
       "      <td>3066.558857</td>\n",
       "      <td>December</td>\n",
       "    </tr>\n",
       "    <tr>\n",
       "      <th>15</th>\n",
       "      <td>2023-01-23</td>\n",
       "      <td>3227.238722</td>\n",
       "      <td>January</td>\n",
       "    </tr>\n",
       "    <tr>\n",
       "      <th>294</th>\n",
       "      <td>2024-02-16</td>\n",
       "      <td>3843.574952</td>\n",
       "      <td>February</td>\n",
       "    </tr>\n",
       "    <tr>\n",
       "      <th>17</th>\n",
       "      <td>2023-01-25</td>\n",
       "      <td>3063.817256</td>\n",
       "      <td>January</td>\n",
       "    </tr>\n",
       "  </tbody>\n",
       "</table>\n",
       "</div>"
      ],
      "text/plain": [
       "          Date        Close     Month\n",
       "217 2023-11-01  3123.753804  November\n",
       "258 2023-12-28  3066.558857  December\n",
       "15  2023-01-23  3227.238722   January\n",
       "294 2024-02-16  3843.574952  February\n",
       "17  2023-01-25  3063.817256   January"
      ]
     },
     "execution_count": 13,
     "metadata": {},
     "output_type": "execute_result"
    }
   ],
   "source": [
    "data = tweak_data(url)\n",
    "data.sample(5, random_state=43)"
   ]
  },
  {
   "cell_type": "markdown",
   "metadata": {},
   "source": [
    "Method chaining offers several benefits: it allows for multiple operations in a single, compact statement, making the code concise, and for those familiar with the technique, it enhances readability by presenting a clear, linear sequence of transformations. It promotes a functional programming style, where each method call is a transformation, avoiding the need for intermediate variables and reducing the risk of variable conflicts and cognitive load. Developers who prefer method chaining appreciate its efficiency in expressing multiple operations in one line, providing a streamlined coding experience with consistent and intuitive flow, and less boilerplate code, making the codebase cleaner and easier to maintain. \n",
    "\n",
    "However, the step-by-step approach may be preferred by beginners or those less familiar with method chaining, as it breaks down each operation into distinct steps that are easier to follow and debug. This approach also provides explicitness, making each line of code clear, which can be beneficial for readability and maintenance, especially in complex transformations. Ultimately, method chaining is favored for its concise, readable, and functional approach, while the step-by-step method is valued for its clarity and ease of understanding, particularly for beginners and debugging purposes. The choice between the two depends on the developer's familiarity with the techniques and the specific context of the code."
   ]
  },
  {
   "cell_type": "markdown",
   "metadata": {},
   "source": [
    "## **Aggregation**\n",
    "\n",
    "Aggregation is like gathering and summarizing data. Imagine you have a list of your friends' scores from different games. Instead of looking at all the scores one by one, you can add them up to see the total, find the highest score, the average score, or even count how many games each friend played. Aggregation helps you quickly understand and summarize large amounts of information by looking at key details.\n",
    "\n",
    "Lets explain further using the `.groupby` method in the pandas library DataFrames and Series objects. We will use a dataset from the gapminder library. If you don't have it you can install it with pip:\n",
    "\n",
    "```bash\n",
    "pip install gapminder --quiet\n",
    "```\n",
    "\n",
    "The `--quiet` flag is optional. Its primary purpose is to reduce the amount of output shown during installation. The installation will still work correctly without this flag; and you will see more detailed output about the progress and steps being taken by pip."
   ]
  },
  {
   "cell_type": "code",
   "execution_count": 14,
   "metadata": {
    "colab": {
     "base_uri": "https://localhost:8080/",
     "height": 676
    },
    "id": "nLHB1QCTjJOI",
    "outputId": "b0efc8a0-2e59-44c1-86e0-0abd075ad26f"
   },
   "outputs": [
    {
     "data": {
      "text/html": [
       "<div>\n",
       "<style scoped>\n",
       "    .dataframe tbody tr th:only-of-type {\n",
       "        vertical-align: middle;\n",
       "    }\n",
       "\n",
       "    .dataframe tbody tr th {\n",
       "        vertical-align: top;\n",
       "    }\n",
       "\n",
       "    .dataframe thead th {\n",
       "        text-align: right;\n",
       "    }\n",
       "</style>\n",
       "<table border=\"1\" class=\"dataframe\">\n",
       "  <thead>\n",
       "    <tr style=\"text-align: right;\">\n",
       "      <th></th>\n",
       "      <th>country</th>\n",
       "      <th>continent</th>\n",
       "      <th>year</th>\n",
       "      <th>lifeExp</th>\n",
       "      <th>pop</th>\n",
       "      <th>gdpPercap</th>\n",
       "    </tr>\n",
       "  </thead>\n",
       "  <tbody>\n",
       "    <tr>\n",
       "      <th>920</th>\n",
       "      <td>Madagascar</td>\n",
       "      <td>Africa</td>\n",
       "      <td>1992</td>\n",
       "      <td>52.214</td>\n",
       "      <td>12210395</td>\n",
       "      <td>1040.676190</td>\n",
       "    </tr>\n",
       "    <tr>\n",
       "      <th>1506</th>\n",
       "      <td>Taiwan</td>\n",
       "      <td>Asia</td>\n",
       "      <td>1982</td>\n",
       "      <td>72.160</td>\n",
       "      <td>18501390</td>\n",
       "      <td>7426.354774</td>\n",
       "    </tr>\n",
       "    <tr>\n",
       "      <th>1361</th>\n",
       "      <td>Singapore</td>\n",
       "      <td>Asia</td>\n",
       "      <td>1977</td>\n",
       "      <td>70.795</td>\n",
       "      <td>2325300</td>\n",
       "      <td>11210.089480</td>\n",
       "    </tr>\n",
       "    <tr>\n",
       "      <th>1216</th>\n",
       "      <td>Philippines</td>\n",
       "      <td>Asia</td>\n",
       "      <td>1972</td>\n",
       "      <td>58.065</td>\n",
       "      <td>40850141</td>\n",
       "      <td>1989.374070</td>\n",
       "    </tr>\n",
       "    <tr>\n",
       "      <th>824</th>\n",
       "      <td>Kenya</td>\n",
       "      <td>Africa</td>\n",
       "      <td>1992</td>\n",
       "      <td>59.285</td>\n",
       "      <td>25020539</td>\n",
       "      <td>1341.921721</td>\n",
       "    </tr>\n",
       "  </tbody>\n",
       "</table>\n",
       "</div>"
      ],
      "text/plain": [
       "          country continent  year  lifeExp       pop     gdpPercap\n",
       "920    Madagascar    Africa  1992   52.214  12210395   1040.676190\n",
       "1506       Taiwan      Asia  1982   72.160  18501390   7426.354774\n",
       "1361    Singapore      Asia  1977   70.795   2325300  11210.089480\n",
       "1216  Philippines      Asia  1972   58.065  40850141   1989.374070\n",
       "824         Kenya    Africa  1992   59.285  25020539   1341.921721"
      ]
     },
     "execution_count": 14,
     "metadata": {},
     "output_type": "execute_result"
    }
   ],
   "source": [
    "from gapminder import gapminder\n",
    "\n",
    "df = gapminder\n",
    "df.sample(5, random_state=43)"
   ]
  },
  {
   "cell_type": "markdown",
   "metadata": {},
   "source": [
    "The `gapminder` dataset from the `gapminder` library provides data on various countries over time, focusing on key indicators such as life expectancy, population, and GDP per capita. This dataset is useful for analyzing global development trends across different countries and continents. For example, a sample from the dataset includes records from countries like Madagascar, Taiwan, Singapore, the Philippines, and Kenya, showing life expectancy, population, and economic productivity for different years. This data is often utilized for educational purposes, data analysis, and visualizations to understand and compare the progress of nations over time.\n",
    "\n",
    "Performing a groupby operation on the `lifeExp` (life expectancy) column in the gapminder dataset and then calculating the mean will give you the average life expectancy for each group. Typically, you would group the data by a categorical column such as country, continent, or year. We will do this by country."
   ]
  },
  {
   "cell_type": "code",
   "execution_count": 15,
   "metadata": {},
   "outputs": [
    {
     "data": {
      "text/plain": [
       "country\n",
       "Afghanistan           37.478833\n",
       "Albania               68.432917\n",
       "Algeria               59.030167\n",
       "Angola                37.883500\n",
       "Argentina             69.060417\n",
       "                        ...    \n",
       "Vietnam               57.479500\n",
       "West Bank and Gaza    60.328667\n",
       "Yemen, Rep.           46.780417\n",
       "Zambia                45.996333\n",
       "Zimbabwe              52.663167\n",
       "Name: lifeExp, Length: 142, dtype: float64"
      ]
     },
     "execution_count": 15,
     "metadata": {},
     "output_type": "execute_result"
    }
   ],
   "source": [
    "(df\n",
    " .groupby('country')\n",
    " ['lifeExp']\n",
    " .mean()\n",
    ")"
   ]
  },
  {
   "cell_type": "markdown",
   "metadata": {},
   "source": [
    "**Groupby** First, we group the data by a specific column (`country` in our case) This means you put all data from each country Africa together in preparation of the next step.\n",
    "\n",
    "**Aggregation**: Next, we summarize each group. In the case above we calculate the average life expectancy for each country.\n",
    "\n",
    "But what if we want to perform a more complex and custom aggregation that is not directly available as built-in methods? Enter the `.aggregate` method (or the `.agg` method. They are essentially the same!). We will use the `lambda` function to create a function that will show only the 25th percentile of the `gdpPercap` column for each country."
   ]
  },
  {
   "cell_type": "code",
   "execution_count": 19,
   "metadata": {
    "colab": {
     "base_uri": "https://localhost:8080/",
     "height": 1273
    },
    "id": "rYcwAklAk_ce",
    "outputId": "f6adaf49-efd8-4407-e7ab-bd26509590df"
   },
   "outputs": [
    {
     "data": {
      "text/plain": [
       "country\n",
       "Afghanistan            736.669343\n",
       "Albania               2451.300665\n",
       "Algeria               3188.737834\n",
       "Angola                2724.676675\n",
       "Argentina             7823.006272\n",
       "                         ...     \n",
       "Vietnam                693.697595\n",
       "West Bank and Gaza    2537.025333\n",
       "Yemen, Rep.            853.237410\n",
       "Zambia                1195.010682\n",
       "Zimbabwe               525.145203\n",
       "Name: gdpPercap, Length: 142, dtype: float64"
      ]
     },
     "execution_count": 19,
     "metadata": {},
     "output_type": "execute_result"
    }
   ],
   "source": [
    "import numpy as np\n",
    "# Group by country and calculate the 25th percentile of GDP per capita\n",
    "(df\n",
    " .groupby('country')\n",
    " ['gdpPercap']\n",
    " .agg(lambda x: np.percentile(x, 25))\n",
    ")"
   ]
  },
  {
   "cell_type": "markdown",
   "metadata": {},
   "source": [
    "## **Conclusion**\n",
    "\n",
    "Lambda functions, or anonymous functions, are a powerful feature in Python that allow for creating small, unnamed functions at runtime. Their concise syntax makes them ideal for scenarios where a simple function is needed temporarily. Beyond their use in data aggregation with pandas, lambda functions are widely utilized in various contexts to enhance code efficiency and readability.\n",
    "\n",
    "They are frequently used in sorting operations to define custom sort keys, in filtering sequences to specify conditions, and in mapping functions to apply transformations to elements. Lambda functions also shine in reduction operations to cumulatively apply functions to sequences, and in functional programming for composing and combining functions on the fly. Additionally, they are valuable in defining inline callbacks in event-driven programming, like GUI development.\n",
    "\n",
    "If you haven't used lambda functions before, this could be an excellent opportunity to explore and incorporate them into your programming practice. Their flexibility and brevity can streamline your code and open up new possibilities for concise and efficient function definitions\n",
    "\n",
    "Let me know in the comments below what you think about them and if you have been using them or intend to use them in future."
   ]
  },
  {
   "cell_type": "code",
   "execution_count": null,
   "metadata": {},
   "outputs": [],
   "source": []
  }
 ],
 "metadata": {
  "colab": {
   "provenance": []
  },
  "kernelspec": {
   "display_name": "Python 3 (ipykernel)",
   "language": "python",
   "name": "python3"
  },
  "language_info": {
   "codemirror_mode": {
    "name": "ipython",
    "version": 3
   },
   "file_extension": ".py",
   "mimetype": "text/x-python",
   "name": "python",
   "nbconvert_exporter": "python",
   "pygments_lexer": "ipython3",
   "version": "3.10.12"
  }
 },
 "nbformat": 4,
 "nbformat_minor": 4
}
