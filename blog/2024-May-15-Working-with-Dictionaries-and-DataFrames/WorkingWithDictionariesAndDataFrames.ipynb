{
 "cells": [
  {
   "cell_type": "raw",
   "id": "27f56cc7-13a0-421e-807c-c4039290f771",
   "metadata": {},
   "source": [
    "---\n",
    "title: \"Working with Dictionaries and DataFrames\"\n",
    "author: \"Ricky Macharm\"\n",
    "date: \"15 May 2024\"\n",
    "image: panda_reading_dictionary.png\n",
    "categories: [Dictionary, DataFrame, pandas, Correlation, Faker, Random Number Generator] # self-defined categories\n",
    "format: html\n",
    "execute:\n",
    "    eval: true\n",
    "jupyter: python3\n",
    "---"
   ]
  },
  {
   "cell_type": "markdown",
   "id": "ee8b6d3b-1888-46b8-9d77-8aa564550719",
   "metadata": {},
   "source": [
    "## Introduction\n",
    "\n",
    "In the world of data science and programming, working with structured data is a fundamental skill. Python, being a versatile language, provides powerful tools and libraries to efficiently handle and manipulate data. In this notebook, we will explore two essential data structures in Python: dictionaries and DataFrames.\n",
    "\n",
    "Dictionaries are a key-value pair data structure that allows for fast retrieval, updating, and deletion of elements using keys. They are widely used in various programming tasks and form the foundation for more complex data structures. On the other hand, DataFrames, which are part of the pandas library, are two-dimensional labeled data structures that can hold columns of different data types. They are particularly useful for handling structured data and offer a wide range of functions for data manipulation and analysis.\n",
    "\n",
    "To enhance our understanding of these concepts, we will get into the weeds a little bit with practical examples and demonstrations. We will learn how to create dictionaries and DataFrames, manipulate their contents, and perform common operations. Furthermore, we will explore how to generate synthetic data using the faker library and the numpy random generator class. These tools will allow us to create realistic datasets for experimentation and testing purposes.\n",
    "\n",
    "By the end of this notebook, you will have a solid understanding of dictionaries and DataFrames in Python, along with the skills to create, manipulate, and analyze structured data. Whether you are a beginner or an experienced programmer, this notebook aims to provide valuable insights and practical examples to enhance your data handling capabilities.\n",
    "\n",
    "So, let's dive in and explore the world of dictionaries and DataFrames in Python!\n",
    "\n",
    "### **Dictionary**\n",
    "\n",
    "A dictionary in programming is a data structure that stores pairs of elements—keys and values—where each key is unique, and each value is associated with one key. This allows for fast retrieval, addition, and deletion of elements based on the key.\n",
    "\n",
    "In Python, dictionaries are defined using curly braces `{}` with keys and values separated by colons `:`.\n",
    "\n",
    "```python\n",
    "my_dict = {\n",
    "    'name': 'Alice',\n",
    "    'age': 25,\n",
    "    'is_student': False\n",
    "}\n",
    "\n",
    "# Accessing a value\n",
    "print(my_dict['name'])  # Output: Alice\n",
    "\n",
    "# Adding a new key-value pair\n",
    "my_dict['city'] = 'New York'\n",
    "\n",
    "# Output the updated dictionary\n",
    "print(my_dict)\n",
    "```\n"
   ]
  },
  {
   "cell_type": "markdown",
   "id": "29649207-3ae0-42ba-8a62-a80cb50e02cb",
   "metadata": {},
   "source": [
    "### **Pandas DataFrame**\n",
    "\n",
    "A pandas DataFrame is a two-dimensional labeled data structure that consists of columns of potentially different types, similar to a spreadsheet or SQL table. It is a fundamental data structure in the pandas library for Python, widely used for data analysis and manipulation.\n",
    "\n",
    "**Comparison with Excel**:\n",
    "- Like an Excel spreadsheet, a DataFrame has rows and columns.\n",
    "- Each column in a DataFrame can have a different data type (e.g., numeric, string, boolean), while in Excel, a column typically contains data of the same type.\n",
    "- DataFrames provide powerful functions for data manipulation, filtering, grouping, and merging, which are more advanced and flexible compared to Excel's built-in functions.\n",
    "\n",
    "**Relationship to R programming**:\n",
    "- The pandas library in Python was heavily inspired by the data.frame in R.\n",
    "- Both pandas DataFrame and R's data.frame are designed to handle structured, tabular data and provide similar functionality for data analysis and manipulation.\n",
    "- pandas DataFrame borrowed many concepts and functionalities from R's data.frame, making it easier for R users to transition to Python for data analysis tasks.\n"
   ]
  },
  {
   "cell_type": "markdown",
   "id": "8c6a0701-2c84-4ea2-9f91-f27841274b3d",
   "metadata": {},
   "source": [
    "Here's a simple example of creating a pandas DataFrame from lists to display fruits and their prices:\n",
    "\n",
    "```python\n",
    "import pandas as pd\n",
    "\n",
    "fruits = ['Apple', 'Banana', 'Orange', 'Grapes', 'Mango']\n",
    "prices = [0.99, 0.50, 0.75, 2.99, 1.49]\n",
    "\n",
    "df = pd.DataFrame({'Fruit': fruits, 'Price': prices})\n",
    "\n",
    "print(df)\n",
    "```\n",
    "\n",
    "Output:\n",
    "```\n",
    "    Fruit  Price\n",
    "0   Apple   0.99\n",
    "1  Banana   0.50\n",
    "2  Orange   0.75\n",
    "3  Grapes   2.99\n",
    "4   Mango   1.49\n",
    "```"
   ]
  },
  {
   "cell_type": "markdown",
   "id": "ac7b1d80-c337-4cf6-b9b0-0bc241e22a33",
   "metadata": {},
   "source": [
    "Let us now get into generating a dictionary of fake datasets of landlord owners then create a pandas DataFrame from this information. First we will need to install the faker library if we don't have it.\n",
    "\n",
    "```bash\n",
    "pip install faker --quiet\n",
    "```\n",
    "The `--quiet` flag is included to suppress the output of the install process and it is not needed for the installation to work."
   ]
  },
  {
   "cell_type": "code",
   "execution_count": 1,
   "id": "e2be402a-6a6d-44d7-8152-0dba8249cf00",
   "metadata": {},
   "outputs": [],
   "source": [
    "import numpy as np\n",
    "import pandas as pd\n",
    "from faker import Faker"
   ]
  },
  {
   "cell_type": "markdown",
   "id": "f64a8133-303b-45e6-8cf9-4c259a51b03d",
   "metadata": {},
   "source": [
    "\n",
    "The code is generating a dataset of approximately 500 fictional property listings in Germany, distributed across 10 randomly selected cities. Here's a high-level overview:\n",
    "\n",
    "1. The `create_property_dict` function generates a single property listing as a dictionary. It uses the Faker library to generate realistic fake data for the owner's name and city, and NumPy's random number generator to randomly select the property type, area, and price in euros.\n",
    "\n",
    "2. The `generate_property_data` function generates a specified number of property listings by repeatedly calling `create_property_dict`. It randomly selects a city for each listing from the provided list of cities.\n",
    "\n",
    "3. The code sets a fixed seed for both Faker and NumPy's random number generator to ensure the generated data is reproducible.\n",
    "\n",
    "4. It generates a list of 10 random German city names using Faker.\n",
    "\n",
    "5. It calls `generate_property_data` to generate 500 property listings across the 10 cities.\n",
    "\n",
    "6. Finally, it converts the list of property dictionaries into a pandas DataFrame for convenient data analysis and manipulation.\n"
   ]
  },
  {
   "cell_type": "code",
   "execution_count": 2,
   "id": "db213c08-9160-472c-88cc-b254d0ad191f",
   "metadata": {},
   "outputs": [
    {
     "data": {
      "text/html": [
       "<div>\n",
       "<style scoped>\n",
       "    .dataframe tbody tr th:only-of-type {\n",
       "        vertical-align: middle;\n",
       "    }\n",
       "\n",
       "    .dataframe tbody tr th {\n",
       "        vertical-align: top;\n",
       "    }\n",
       "\n",
       "    .dataframe thead th {\n",
       "        text-align: right;\n",
       "    }\n",
       "</style>\n",
       "<table border=\"1\" class=\"dataframe\">\n",
       "  <thead>\n",
       "    <tr style=\"text-align: right;\">\n",
       "      <th></th>\n",
       "      <th>owners_name</th>\n",
       "      <th>property_type</th>\n",
       "      <th>city</th>\n",
       "      <th>state</th>\n",
       "      <th>area_m2</th>\n",
       "      <th>price_euros</th>\n",
       "    </tr>\n",
       "  </thead>\n",
       "  <tbody>\n",
       "    <tr>\n",
       "      <th>0</th>\n",
       "      <td>Sahin Ebert</td>\n",
       "      <td>Wohnung</td>\n",
       "      <td>Mittweida</td>\n",
       "      <td>Bavaria</td>\n",
       "      <td>110</td>\n",
       "      <td>815563.33</td>\n",
       "    </tr>\n",
       "    <tr>\n",
       "      <th>1</th>\n",
       "      <td>Carmine Dietz-Fritsch</td>\n",
       "      <td>Haus</td>\n",
       "      <td>Schwerin</td>\n",
       "      <td>Saxony</td>\n",
       "      <td>136</td>\n",
       "      <td>785586.70</td>\n",
       "    </tr>\n",
       "    <tr>\n",
       "      <th>2</th>\n",
       "      <td>Dr. Patrizia Kraushaar B.Eng.</td>\n",
       "      <td>Haus</td>\n",
       "      <td>Schlüchtern</td>\n",
       "      <td>Bavaria</td>\n",
       "      <td>51</td>\n",
       "      <td>522034.28</td>\n",
       "    </tr>\n",
       "    <tr>\n",
       "      <th>3</th>\n",
       "      <td>Dipl.-Ing. Anton Binner</td>\n",
       "      <td>Wohnung</td>\n",
       "      <td>Rockenhausen</td>\n",
       "      <td>Saxony</td>\n",
       "      <td>130</td>\n",
       "      <td>972890.32</td>\n",
       "    </tr>\n",
       "    <tr>\n",
       "      <th>4</th>\n",
       "      <td>Domenico Bolander</td>\n",
       "      <td>Haus</td>\n",
       "      <td>Mittweida</td>\n",
       "      <td>Bavaria</td>\n",
       "      <td>89</td>\n",
       "      <td>403418.10</td>\n",
       "    </tr>\n",
       "    <tr>\n",
       "      <th>5</th>\n",
       "      <td>Ing. Freddy Buchholz</td>\n",
       "      <td>Wohnung</td>\n",
       "      <td>Bayreuth</td>\n",
       "      <td>Saxony</td>\n",
       "      <td>149</td>\n",
       "      <td>985671.01</td>\n",
       "    </tr>\n",
       "    <tr>\n",
       "      <th>6</th>\n",
       "      <td>Stanislav Sauer</td>\n",
       "      <td>Wohnung</td>\n",
       "      <td>Güstrow</td>\n",
       "      <td>Bavaria</td>\n",
       "      <td>71</td>\n",
       "      <td>574618.72</td>\n",
       "    </tr>\n",
       "    <tr>\n",
       "      <th>7</th>\n",
       "      <td>Bekir Scholtz</td>\n",
       "      <td>Wohnung</td>\n",
       "      <td>Bayreuth</td>\n",
       "      <td>Saxony</td>\n",
       "      <td>78</td>\n",
       "      <td>121893.28</td>\n",
       "    </tr>\n",
       "    <tr>\n",
       "      <th>8</th>\n",
       "      <td>Ramona Seifert B.Eng.</td>\n",
       "      <td>Haus</td>\n",
       "      <td>Schlüchtern</td>\n",
       "      <td>Bavaria</td>\n",
       "      <td>107</td>\n",
       "      <td>934978.00</td>\n",
       "    </tr>\n",
       "    <tr>\n",
       "      <th>9</th>\n",
       "      <td>Katarina Stadelmann</td>\n",
       "      <td>Wohnung</td>\n",
       "      <td>Mittweida</td>\n",
       "      <td>Saxony</td>\n",
       "      <td>68</td>\n",
       "      <td>662183.34</td>\n",
       "    </tr>\n",
       "  </tbody>\n",
       "</table>\n",
       "</div>"
      ],
      "text/plain": [
       "                     owners_name property_type          city    state  \\\n",
       "0                    Sahin Ebert       Wohnung     Mittweida  Bavaria   \n",
       "1          Carmine Dietz-Fritsch          Haus      Schwerin   Saxony   \n",
       "2  Dr. Patrizia Kraushaar B.Eng.          Haus   Schlüchtern  Bavaria   \n",
       "3        Dipl.-Ing. Anton Binner       Wohnung  Rockenhausen   Saxony   \n",
       "4              Domenico Bolander          Haus     Mittweida  Bavaria   \n",
       "5           Ing. Freddy Buchholz       Wohnung      Bayreuth   Saxony   \n",
       "6                Stanislav Sauer       Wohnung       Güstrow  Bavaria   \n",
       "7                  Bekir Scholtz       Wohnung      Bayreuth   Saxony   \n",
       "8          Ramona Seifert B.Eng.          Haus   Schlüchtern  Bavaria   \n",
       "9            Katarina Stadelmann       Wohnung     Mittweida   Saxony   \n",
       "\n",
       "   area_m2  price_euros  \n",
       "0      110    815563.33  \n",
       "1      136    785586.70  \n",
       "2       51    522034.28  \n",
       "3      130    972890.32  \n",
       "4       89    403418.10  \n",
       "5      149    985671.01  \n",
       "6       71    574618.72  \n",
       "7       78    121893.28  \n",
       "8      107    934978.00  \n",
       "9       68    662183.34  "
      ]
     },
     "execution_count": 2,
     "metadata": {},
     "output_type": "execute_result"
    }
   ],
   "source": [
    "def create_property_dict(city, state, faker_instance, rng_instance):\n",
    "    property_dict = {\n",
    "        'owners_name': faker_instance.name(),\n",
    "        'property_type': rng_instance.choice(['Wohnung', 'Haus']),\n",
    "        'city': city,\n",
    "        'state': state,\n",
    "        'area_m2': rng_instance.integers(50, 161),\n",
    "        'price_euros': round(rng_instance.uniform(100000, 1000000), 2)\n",
    "    }\n",
    "\n",
    "    return property_dict\n",
    "\n",
    "def generate_property_data(num_entries, cities, states, faker_instance, rng_instance):\n",
    "    property_data = []\n",
    "    for i in range(num_entries):\n",
    "        city = rng_instance.choice(cities)\n",
    "        state = states[i % len(states)]  # Alternate between the states\n",
    "        property_dict = create_property_dict(city, state, faker_instance, rng_instance)\n",
    "        property_data.append(property_dict)\n",
    "    return property_data\n",
    "\n",
    "# Set the seed for Faker and NumPy\n",
    "Faker.seed(43)\n",
    "np.random.seed(43)\n",
    "\n",
    "# Create Faker and NumPy random instances\n",
    "fake = Faker('de_DE')\n",
    "rng = np.random.default_rng()\n",
    "\n",
    "# Generate 10 random cities\n",
    "cities = [fake.city() for _ in range(10)]\n",
    "\n",
    "# Define 2 random states\n",
    "states = ['Bavaria', 'Saxony']\n",
    "\n",
    "# Generate about 500 entries distributed among the cities\n",
    "num_entries = 500\n",
    "property_data = generate_property_data(num_entries, cities, states, fake, rng)\n",
    "\n",
    "# Convert property_data to a DataFrame\n",
    "df = pd.DataFrame(property_data)\n",
    "\n",
    "df.head(10)"
   ]
  },
  {
   "cell_type": "markdown",
   "id": "c213822a-ef4b-487c-920f-fb67dfd839fe",
   "metadata": {},
   "source": [
    "### **Correlation**\n",
    "\n",
    "A **correlation** measures the relationship between two variables, indicating how changes in one variable are associated with changes in another. The correlation coefficient, typically denoted as \\( r \\), ranges from -1 to 1:\n",
    "\n",
    "- \\( r = 1 \\) indicates a perfect positive correlation (as one variable increases, the other also increases).\n",
    "- \\( r = -1 \\) indicates a perfect negative correlation (as one variable increases, the other decreases).\n",
    "- \\( r = 0 \\) indicates no correlation (no linear relationship between the variables).\n",
    "\n",
    "In statistical terms:\n",
    "\n",
    "- **Positive correlation**: Both variables move in the same direction.\n",
    "  \n",
    "- **Negative correlation**: Variables move in opposite directions.\n",
    "  \n",
    "- **No correlation**: Variables do not show any linear relationship.\n",
    "\n",
    "Here’s how you can calculate the correlation coefficient in Python using the pandas library:\n",
    "\n",
    "```python\n",
    "import pandas as pd\n",
    "\n",
    "# Sample data\n",
    "data = {\n",
    "    'Variable1': [10, 20, 30, 40, 50],\n",
    "    'Variable2': [15, 25, 35, 45, 55],\n",
    "    'Variable3': [100, 200, 300, 400, 500]\n",
    "}\n",
    "\n",
    "# Create a DataFrame\n",
    "df = pd.DataFrame(data)\n",
    "\n",
    "# Calculate the correlation matrix\n",
    "correlation_matrix = df.corr()\n",
    "```"
   ]
  },
  {
   "cell_type": "markdown",
   "id": "8e7d1c5f-92dd-4128-a2e0-ec0c2874fcdd",
   "metadata": {},
   "source": [
    "#### **Manual Process**\n",
    "\n",
    "We will now create a dictionary called `saxony_cities_corr` with the names of all the  cities in Saxony as keys and their corresponding correlation coefficients between `area_m2` and `price_euros` as values.\n",
    "\n",
    "We will do it manually first with so many steps of cut and paste.\n",
    "\n",
    "Let us first define a boolean mask then subset the entire dataframe with that mask."
   ]
  },
  {
   "cell_type": "code",
   "execution_count": 3,
   "id": "7f666f1c-b1ed-4e05-b396-98f0825232bf",
   "metadata": {},
   "outputs": [
    {
     "data": {
      "text/html": [
       "<div>\n",
       "<style scoped>\n",
       "    .dataframe tbody tr th:only-of-type {\n",
       "        vertical-align: middle;\n",
       "    }\n",
       "\n",
       "    .dataframe tbody tr th {\n",
       "        vertical-align: top;\n",
       "    }\n",
       "\n",
       "    .dataframe thead th {\n",
       "        text-align: right;\n",
       "    }\n",
       "</style>\n",
       "<table border=\"1\" class=\"dataframe\">\n",
       "  <thead>\n",
       "    <tr style=\"text-align: right;\">\n",
       "      <th></th>\n",
       "      <th>owners_name</th>\n",
       "      <th>property_type</th>\n",
       "      <th>city</th>\n",
       "      <th>state</th>\n",
       "      <th>area_m2</th>\n",
       "      <th>price_euros</th>\n",
       "    </tr>\n",
       "  </thead>\n",
       "  <tbody>\n",
       "    <tr>\n",
       "      <th>1</th>\n",
       "      <td>Carmine Dietz-Fritsch</td>\n",
       "      <td>Haus</td>\n",
       "      <td>Schwerin</td>\n",
       "      <td>Saxony</td>\n",
       "      <td>136</td>\n",
       "      <td>785586.70</td>\n",
       "    </tr>\n",
       "    <tr>\n",
       "      <th>3</th>\n",
       "      <td>Dipl.-Ing. Anton Binner</td>\n",
       "      <td>Wohnung</td>\n",
       "      <td>Rockenhausen</td>\n",
       "      <td>Saxony</td>\n",
       "      <td>130</td>\n",
       "      <td>972890.32</td>\n",
       "    </tr>\n",
       "    <tr>\n",
       "      <th>5</th>\n",
       "      <td>Ing. Freddy Buchholz</td>\n",
       "      <td>Wohnung</td>\n",
       "      <td>Bayreuth</td>\n",
       "      <td>Saxony</td>\n",
       "      <td>149</td>\n",
       "      <td>985671.01</td>\n",
       "    </tr>\n",
       "    <tr>\n",
       "      <th>7</th>\n",
       "      <td>Bekir Scholtz</td>\n",
       "      <td>Wohnung</td>\n",
       "      <td>Bayreuth</td>\n",
       "      <td>Saxony</td>\n",
       "      <td>78</td>\n",
       "      <td>121893.28</td>\n",
       "    </tr>\n",
       "    <tr>\n",
       "      <th>9</th>\n",
       "      <td>Katarina Stadelmann</td>\n",
       "      <td>Wohnung</td>\n",
       "      <td>Mittweida</td>\n",
       "      <td>Saxony</td>\n",
       "      <td>68</td>\n",
       "      <td>662183.34</td>\n",
       "    </tr>\n",
       "    <tr>\n",
       "      <th>...</th>\n",
       "      <td>...</td>\n",
       "      <td>...</td>\n",
       "      <td>...</td>\n",
       "      <td>...</td>\n",
       "      <td>...</td>\n",
       "      <td>...</td>\n",
       "    </tr>\n",
       "    <tr>\n",
       "      <th>491</th>\n",
       "      <td>Ing. Knud Mühle</td>\n",
       "      <td>Wohnung</td>\n",
       "      <td>Rockenhausen</td>\n",
       "      <td>Saxony</td>\n",
       "      <td>64</td>\n",
       "      <td>263566.53</td>\n",
       "    </tr>\n",
       "    <tr>\n",
       "      <th>493</th>\n",
       "      <td>Mona Jacob</td>\n",
       "      <td>Haus</td>\n",
       "      <td>Schwerin</td>\n",
       "      <td>Saxony</td>\n",
       "      <td>72</td>\n",
       "      <td>262477.49</td>\n",
       "    </tr>\n",
       "    <tr>\n",
       "      <th>495</th>\n",
       "      <td>Kathi Kramer B.Sc.</td>\n",
       "      <td>Haus</td>\n",
       "      <td>Rockenhausen</td>\n",
       "      <td>Saxony</td>\n",
       "      <td>100</td>\n",
       "      <td>750277.81</td>\n",
       "    </tr>\n",
       "    <tr>\n",
       "      <th>497</th>\n",
       "      <td>Juan Hübel</td>\n",
       "      <td>Wohnung</td>\n",
       "      <td>Schlüchtern</td>\n",
       "      <td>Saxony</td>\n",
       "      <td>156</td>\n",
       "      <td>724366.15</td>\n",
       "    </tr>\n",
       "    <tr>\n",
       "      <th>499</th>\n",
       "      <td>Dr. Stephanie Ullmann</td>\n",
       "      <td>Wohnung</td>\n",
       "      <td>Oschatz</td>\n",
       "      <td>Saxony</td>\n",
       "      <td>116</td>\n",
       "      <td>965051.22</td>\n",
       "    </tr>\n",
       "  </tbody>\n",
       "</table>\n",
       "<p>250 rows × 6 columns</p>\n",
       "</div>"
      ],
      "text/plain": [
       "                 owners_name property_type          city   state  area_m2  \\\n",
       "1      Carmine Dietz-Fritsch          Haus      Schwerin  Saxony      136   \n",
       "3    Dipl.-Ing. Anton Binner       Wohnung  Rockenhausen  Saxony      130   \n",
       "5       Ing. Freddy Buchholz       Wohnung      Bayreuth  Saxony      149   \n",
       "7              Bekir Scholtz       Wohnung      Bayreuth  Saxony       78   \n",
       "9        Katarina Stadelmann       Wohnung     Mittweida  Saxony       68   \n",
       "..                       ...           ...           ...     ...      ...   \n",
       "491          Ing. Knud Mühle       Wohnung  Rockenhausen  Saxony       64   \n",
       "493               Mona Jacob          Haus      Schwerin  Saxony       72   \n",
       "495       Kathi Kramer B.Sc.          Haus  Rockenhausen  Saxony      100   \n",
       "497               Juan Hübel       Wohnung   Schlüchtern  Saxony      156   \n",
       "499    Dr. Stephanie Ullmann       Wohnung       Oschatz  Saxony      116   \n",
       "\n",
       "     price_euros  \n",
       "1      785586.70  \n",
       "3      972890.32  \n",
       "5      985671.01  \n",
       "7      121893.28  \n",
       "9      662183.34  \n",
       "..           ...  \n",
       "491    263566.53  \n",
       "493    262477.49  \n",
       "495    750277.81  \n",
       "497    724366.15  \n",
       "499    965051.22  \n",
       "\n",
       "[250 rows x 6 columns]"
      ]
     },
     "execution_count": 3,
     "metadata": {},
     "output_type": "execute_result"
    }
   ],
   "source": [
    "mask = df.state == 'Saxony'\n",
    "df_saxony = df[mask]\n",
    "\n",
    "df_saxony"
   ]
  },
  {
   "cell_type": "markdown",
   "id": "22c3df04-b367-4847-b7e6-fe5c35066131",
   "metadata": {},
   "source": [
    "The code snippet provided performs a filtering operation on a pandas DataFrame named `df` to select rows where the state is 'Saxony'. Here’s a breakdown of each step:\n",
    "\n",
    "1. **Creating a Mask**:\n",
    "   - `mask = df.state == 'Saxony'`: This line creates a boolean mask where each element is `True` if the corresponding row's state is 'Saxony', and `False` otherwise. This mask is essentially a series of boolean values that match the length of the DataFrame.\n",
    "\n",
    "2. **Applying the Mask to the DataFrame**:\n",
    "   - `df_saxony = df[mask]`: This line applies the mask to the DataFrame `df`. By using the mask, it filters out the rows where the mask has a `True` value. The result is a new DataFrame, `df_saxony`, which contains only the rows from the original DataFrame where the state column has the value 'Saxony'.\n",
    "\n",
    "3. **Resulting DataFrame**:\n",
    "   - The resulting `df_saxony` DataFrame includes only those entries from the original DataFrame that are located in 'Saxony'. All columns are retained, but the number of rows may be reduced depending on how many entries meet the criteria.\n",
    "\n",
    "This operation is useful for segmenting data based on specific criteria, in this case, geographic location (state). It's commonly used in data analysis to focus on subsets of a dataset."
   ]
  },
  {
   "cell_type": "code",
   "execution_count": 4,
   "id": "469e36d7-7026-4677-9a8d-9574b76290bd",
   "metadata": {},
   "outputs": [
    {
     "data": {
      "text/plain": [
       "array(['Schwerin', 'Rockenhausen', 'Bayreuth', 'Mittweida', 'Stollberg',\n",
       "       'Kötzting', 'Oschatz', 'Güstrow', 'Merseburg', 'Schlüchtern'],\n",
       "      dtype=object)"
      ]
     },
     "execution_count": 4,
     "metadata": {},
     "output_type": "execute_result"
    }
   ],
   "source": [
    "df_saxony.city.unique()"
   ]
  },
  {
   "cell_type": "markdown",
   "id": "5a170024-e980-4861-b9ce-520334840cda",
   "metadata": {},
   "source": [
    "We create an empty dictionary and call it `saxony_cities_corr`."
   ]
  },
  {
   "cell_type": "code",
   "execution_count": 5,
   "id": "ce717e0f-c432-4a09-a668-71228866fadc",
   "metadata": {},
   "outputs": [],
   "source": [
    "saxony_cities_corr = {}"
   ]
  },
  {
   "cell_type": "markdown",
   "id": "57f03ad9-2510-4518-a522-6653145e014d",
   "metadata": {},
   "source": [
    "We will proceed to now manually calcualte the correlation for all the 10 cities found in the State of Saxony. Please note that even though the States and Cities listed in the DataFrame are real German States and Cities, they were all assigned randomly to each other as they are 'fake'."
   ]
  },
  {
   "cell_type": "code",
   "execution_count": 6,
   "id": "1fdb3fd1-880a-4490-89f5-af273b467cc5",
   "metadata": {},
   "outputs": [
    {
     "data": {
      "text/plain": [
       "{'Bayreuth': 0.0770467229268453}"
      ]
     },
     "execution_count": 6,
     "metadata": {},
     "output_type": "execute_result"
    }
   ],
   "source": [
    "mask_bayreuth = df_saxony['city'] == 'Bayreuth'\n",
    "df_bayreuth = df_saxony[mask_bayreuth]\n",
    "bayreuth_corr = df_bayreuth['area_m2'].corr(df_bayreuth['price_euros'])\n",
    "saxony_cities_corr['Bayreuth'] = bayreuth_corr\n",
    "saxony_cities_corr"
   ]
  },
  {
   "cell_type": "markdown",
   "id": "e0ca4cf5-6fec-4802-9ca6-b785560b9a13",
   "metadata": {},
   "source": [
    "The code snippet filters the `df_saxony` DataFrame to include only properties in Bayreuth, calculates the correlation coefficient between the area and price of those properties, and adds the result to the `saxony_cities_corr` dictionary.\n",
    "\n",
    "We will repeat the same process for the rest of the cities."
   ]
  },
  {
   "cell_type": "code",
   "execution_count": 7,
   "id": "9bcd4626-354c-4af0-8053-7feee261121e",
   "metadata": {},
   "outputs": [
    {
     "data": {
      "text/plain": [
       "{'Bayreuth': 0.0770467229268453, 'Kötzting': 0.014957658503539707}"
      ]
     },
     "execution_count": 7,
     "metadata": {},
     "output_type": "execute_result"
    }
   ],
   "source": [
    "# Calculate the correlation coefficient for Kötzting\n",
    "mask_koetzting = df_saxony['city'] == 'Kötzting'\n",
    "df_koetzting = df_saxony[mask_koetzting]\n",
    "koetzting_corr = df_koetzting['area_m2'].corr(df_koetzting['price_euros'])\n",
    "saxony_cities_corr['Kötzting'] = koetzting_corr\n",
    "saxony_cities_corr"
   ]
  },
  {
   "cell_type": "code",
   "execution_count": 8,
   "id": "9ac04e2a-a5f4-4670-8cc6-80d26bba01f4",
   "metadata": {},
   "outputs": [
    {
     "data": {
      "text/plain": [
       "{'Bayreuth': 0.0770467229268453,\n",
       " 'Kötzting': 0.014957658503539707,\n",
       " 'Stollberg': -0.29977732264028495}"
      ]
     },
     "execution_count": 8,
     "metadata": {},
     "output_type": "execute_result"
    }
   ],
   "source": [
    "# Calculate the correlation coefficient for Stollberg\n",
    "mask_stollberg = df_saxony['city'] == 'Stollberg'\n",
    "df_stollberg = df_saxony[mask_stollberg]\n",
    "stollberg_corr = df_stollberg['area_m2'].corr(df_stollberg['price_euros'])\n",
    "saxony_cities_corr['Stollberg'] = stollberg_corr\n",
    "saxony_cities_corr"
   ]
  },
  {
   "cell_type": "code",
   "execution_count": 9,
   "id": "dba69ab3-7b51-4e87-9ccf-37728ece8895",
   "metadata": {},
   "outputs": [
    {
     "data": {
      "text/plain": [
       "{'Bayreuth': 0.0770467229268453,\n",
       " 'Kötzting': 0.014957658503539707,\n",
       " 'Stollberg': -0.29977732264028495,\n",
       " 'Schwerin': -0.03456782460314455}"
      ]
     },
     "execution_count": 9,
     "metadata": {},
     "output_type": "execute_result"
    }
   ],
   "source": [
    "# Calculate the correlation coefficient for Schwerin\n",
    "mask_schwerin = df_saxony['city'] == 'Schwerin'\n",
    "df_schwerin = df_saxony[mask_schwerin]\n",
    "schwerin_corr = df_schwerin['area_m2'].corr(df_schwerin['price_euros'])\n",
    "saxony_cities_corr['Schwerin'] = schwerin_corr\n",
    "saxony_cities_corr"
   ]
  },
  {
   "cell_type": "code",
   "execution_count": 10,
   "id": "4fe549ff-085c-43f4-b6b8-179ec66af9b8",
   "metadata": {},
   "outputs": [
    {
     "data": {
      "text/plain": [
       "{'Bayreuth': 0.0770467229268453,\n",
       " 'Kötzting': 0.014957658503539707,\n",
       " 'Stollberg': -0.29977732264028495,\n",
       " 'Schwerin': -0.03456782460314455,\n",
       " 'Schlüchtern': -0.04393598070125694}"
      ]
     },
     "execution_count": 10,
     "metadata": {},
     "output_type": "execute_result"
    }
   ],
   "source": [
    "# Calculate the correlation coefficient for Schlüchtern\n",
    "mask_schluechtern = df_saxony['city'] == 'Schlüchtern'\n",
    "df_schluechtern = df_saxony[mask_schluechtern]\n",
    "schluechtern_corr = df_schluechtern['area_m2'].corr(df_schluechtern['price_euros'])\n",
    "saxony_cities_corr['Schlüchtern'] = schluechtern_corr\n",
    "saxony_cities_corr"
   ]
  },
  {
   "cell_type": "code",
   "execution_count": 11,
   "id": "e99ab837-9204-4659-a669-92d65f5d2722",
   "metadata": {},
   "outputs": [
    {
     "data": {
      "text/plain": [
       "{'Bayreuth': 0.0770467229268453,\n",
       " 'Kötzting': 0.014957658503539707,\n",
       " 'Stollberg': -0.29977732264028495,\n",
       " 'Schwerin': -0.03456782460314455,\n",
       " 'Schlüchtern': -0.04393598070125694,\n",
       " 'Merseburg': 0.2805170371742092}"
      ]
     },
     "execution_count": 11,
     "metadata": {},
     "output_type": "execute_result"
    }
   ],
   "source": [
    "# Calculate the correlation coefficient for Merseburg\n",
    "mask_merseburg = df_saxony['city'] == 'Merseburg'\n",
    "df_merseburg = df_saxony[mask_merseburg]\n",
    "merseburg_corr = df_merseburg['area_m2'].corr(df_merseburg['price_euros'])\n",
    "saxony_cities_corr['Merseburg'] = merseburg_corr\n",
    "saxony_cities_corr"
   ]
  },
  {
   "cell_type": "code",
   "execution_count": 12,
   "id": "ca0a827c-f79d-4d01-9f9a-d05cb7a316ba",
   "metadata": {},
   "outputs": [
    {
     "data": {
      "text/plain": [
       "{'Bayreuth': 0.0770467229268453,\n",
       " 'Kötzting': 0.014957658503539707,\n",
       " 'Stollberg': -0.29977732264028495,\n",
       " 'Schwerin': -0.03456782460314455,\n",
       " 'Schlüchtern': -0.04393598070125694,\n",
       " 'Merseburg': 0.2805170371742092,\n",
       " 'Rockenhausen': 0.1793142405949145}"
      ]
     },
     "execution_count": 12,
     "metadata": {},
     "output_type": "execute_result"
    }
   ],
   "source": [
    "# Calculate the correlation coefficient for Rockenhausen\n",
    "mask_rockenhausen = df_saxony['city'] == 'Rockenhausen'\n",
    "df_rockenhausen = df_saxony[mask_rockenhausen]\n",
    "rockenhausen_corr = df_rockenhausen['area_m2'].corr(df_rockenhausen['price_euros'])\n",
    "saxony_cities_corr['Rockenhausen'] = rockenhausen_corr\n",
    "saxony_cities_corr"
   ]
  },
  {
   "cell_type": "code",
   "execution_count": 13,
   "id": "8c2a2e9e-df65-4fba-ba0e-de7eb507d17e",
   "metadata": {},
   "outputs": [
    {
     "data": {
      "text/plain": [
       "{'Bayreuth': 0.0770467229268453,\n",
       " 'Kötzting': 0.014957658503539707,\n",
       " 'Stollberg': -0.29977732264028495,\n",
       " 'Schwerin': -0.03456782460314455,\n",
       " 'Schlüchtern': -0.04393598070125694,\n",
       " 'Merseburg': 0.2805170371742092,\n",
       " 'Rockenhausen': 0.1793142405949145,\n",
       " 'Güstrow': 0.18345446151128425}"
      ]
     },
     "execution_count": 13,
     "metadata": {},
     "output_type": "execute_result"
    }
   ],
   "source": [
    "# Calculate the correlation coefficient for Güstrow\n",
    "mask_guestrow = df_saxony['city'] == 'Güstrow'\n",
    "df_guestrow = df_saxony[mask_guestrow]\n",
    "guestrow_corr = df_guestrow['area_m2'].corr(df_guestrow['price_euros'])\n",
    "saxony_cities_corr['Güstrow'] = guestrow_corr\n",
    "saxony_cities_corr"
   ]
  },
  {
   "cell_type": "code",
   "execution_count": 14,
   "id": "2b305945-04bd-4df1-9a37-94b06b478cf8",
   "metadata": {},
   "outputs": [
    {
     "data": {
      "text/plain": [
       "{'Bayreuth': 0.0770467229268453,\n",
       " 'Kötzting': 0.014957658503539707,\n",
       " 'Stollberg': -0.29977732264028495,\n",
       " 'Schwerin': -0.03456782460314455,\n",
       " 'Schlüchtern': -0.04393598070125694,\n",
       " 'Merseburg': 0.2805170371742092,\n",
       " 'Rockenhausen': 0.1793142405949145,\n",
       " 'Güstrow': 0.18345446151128425,\n",
       " 'Oschatz': 0.024082404872172}"
      ]
     },
     "execution_count": 14,
     "metadata": {},
     "output_type": "execute_result"
    }
   ],
   "source": [
    "# Calculate the correlation coefficient for Oschatz\n",
    "mask_oschatz = df_saxony['city'] == 'Oschatz'\n",
    "df_oschatz = df_saxony[mask_oschatz]\n",
    "oschatz_corr = df_oschatz['area_m2'].corr(df_oschatz['price_euros'])\n",
    "saxony_cities_corr['Oschatz'] = oschatz_corr\n",
    "saxony_cities_corr"
   ]
  },
  {
   "cell_type": "code",
   "execution_count": 15,
   "id": "21542b51-9a0a-4b62-857a-0da5c093e9cf",
   "metadata": {},
   "outputs": [
    {
     "data": {
      "text/plain": [
       "{'Bayreuth': 0.0770467229268453,\n",
       " 'Kötzting': 0.014957658503539707,\n",
       " 'Stollberg': -0.29977732264028495,\n",
       " 'Schwerin': -0.03456782460314455,\n",
       " 'Schlüchtern': -0.04393598070125694,\n",
       " 'Merseburg': 0.2805170371742092,\n",
       " 'Rockenhausen': 0.1793142405949145,\n",
       " 'Güstrow': 0.18345446151128425,\n",
       " 'Oschatz': 0.024082404872172,\n",
       " 'Mittweida': 0.11531078033267718}"
      ]
     },
     "execution_count": 15,
     "metadata": {},
     "output_type": "execute_result"
    }
   ],
   "source": [
    "# Calculate the correlation coefficient for Mittweida\n",
    "mask_mittweida = df_saxony['city'] == 'Mittweida'\n",
    "df_mittweida = df_saxony[mask_mittweida]\n",
    "mittweida_corr = df_mittweida['area_m2'].corr(df_mittweida['price_euros'])\n",
    "saxony_cities_corr['Mittweida'] = mittweida_corr\n",
    "saxony_cities_corr"
   ]
  },
  {
   "cell_type": "markdown",
   "id": "a5366f22-08bd-448d-a54c-d1394d0a84d2",
   "metadata": {},
   "source": [
    "Manually repeating the same code for each city was tedious and error-prone. However, this exercise helped me understand the process and laid the foundation for the next approach, which achieves the same result more efficiently using a for loop to iterate over the cities.\n",
    "\n",
    "#### **For Loop**"
   ]
  },
  {
   "cell_type": "code",
   "execution_count": 16,
   "id": "8c3f9a92-696b-421e-a7ff-b1655b3ddf11",
   "metadata": {},
   "outputs": [
    {
     "data": {
      "text/plain": [
       "{'Schwerin': -0.03456782460314455,\n",
       " 'Rockenhausen': 0.1793142405949145,\n",
       " 'Bayreuth': 0.0770467229268453,\n",
       " 'Mittweida': 0.11531078033267718,\n",
       " 'Stollberg': -0.29977732264028495,\n",
       " 'Kötzting': 0.014957658503539707,\n",
       " 'Oschatz': 0.024082404872172,\n",
       " 'Güstrow': 0.18345446151128425,\n",
       " 'Merseburg': 0.2805170371742092,\n",
       " 'Schlüchtern': -0.04393598070125694}"
      ]
     },
     "execution_count": 16,
     "metadata": {},
     "output_type": "execute_result"
    }
   ],
   "source": [
    "# Provided list of cities\n",
    "cities = df_saxony.city.unique()\n",
    "\n",
    "# Initialize an empty dictionary to store the correlation coefficients\n",
    "saxony_cities_corr = {}\n",
    "\n",
    "# Loop through each city and calculate the correlation coefficient\n",
    "for city in cities:\n",
    "    mask_city = df_saxony['city'] == city\n",
    "    df_city = df_saxony[mask_city]\n",
    "    city_corr = df_city['area_m2'].corr(df_city['price_euros'])\n",
    "    saxony_cities_corr[city] = city_corr\n",
    "\n",
    "# Display the dictionary with correlation coefficients\n",
    "saxony_cities_corr"
   ]
  },
  {
   "cell_type": "markdown",
   "id": "5f3e029f-6b5d-4d77-b886-e73030c66496",
   "metadata": {},
   "source": [
    "Same result using a more compact code.\n",
    "\n",
    "\n",
    "1. **List of Cities**: The list of cities is defined as provided.\n",
    "2. **Empty Dictionary**: An empty dictionary `saxony_cities_corr` is initialized to store the correlation coefficients.\n",
    "3. **For Loop**: The loop iterates over each city in the `cities` list.\n",
    "    - Within the loop:\n",
    "        - A mask is created to filter rows for the current city.\n",
    "        - A DataFrame `df_city` is created containing only the rows for the current city.\n",
    "        - The correlation coefficient between `area_m2` and `price_euros` is calculated and stored in `city_corr`.\n",
    "        - The correlation coefficient is then added to the dictionary `saxony_cities_corr` with the city name as the key.\n",
    "4. **Result**: The dictionary `saxony_cities_corr` is displayed, containing the correlation coefficients for all the cities.\n",
    "\n",
    "This approach leverages the power of loops to reduce repetitive code and makes it easier to handle additional cities in the future.\n",
    "\n",
    " We can even make it more compact with a dictionary comprehension.\n",
    "\n",
    "#### **Dictionary Comprehension**"
   ]
  },
  {
   "cell_type": "code",
   "execution_count": 17,
   "id": "344fe5d4-a6dd-45d3-9c70-a4bdb7d543d4",
   "metadata": {},
   "outputs": [
    {
     "data": {
      "text/plain": [
       "{'Schwerin': -0.03456782460314455,\n",
       " 'Rockenhausen': 0.1793142405949145,\n",
       " 'Bayreuth': 0.0770467229268453,\n",
       " 'Mittweida': 0.11531078033267718,\n",
       " 'Stollberg': -0.29977732264028495,\n",
       " 'Kötzting': 0.014957658503539707,\n",
       " 'Oschatz': 0.024082404872172,\n",
       " 'Güstrow': 0.18345446151128425,\n",
       " 'Merseburg': 0.2805170371742092,\n",
       " 'Schlüchtern': -0.04393598070125694}"
      ]
     },
     "execution_count": 17,
     "metadata": {},
     "output_type": "execute_result"
    }
   ],
   "source": [
    "# Provided list of cities\n",
    "cities = df_saxony.city.unique()\n",
    "\n",
    "# Create a dictionary with correlation coefficients using dictionary comprehension\n",
    "saxony_cities_corr = {\n",
    "    city: df_saxony[df_saxony['city'] == city]['area_m2'].corr(\n",
    "        df_saxony[df_saxony['city'] == city]['price_euros']\n",
    "    ) for city in cities\n",
    "}\n",
    "\n",
    "# Display the dictionary with correlation coefficients\n",
    "saxony_cities_corr"
   ]
  },
  {
   "cell_type": "markdown",
   "id": "712ffde3-9dfd-45d4-ba70-c31191e3f8d2",
   "metadata": {},
   "source": [
    "1. **List of Cities**: The list of cities is defined as provided.\n",
    "2. **Dictionary Comprehension**: A dictionary comprehension is used to create the `saxony_cities_corr` dictionary.\n",
    "   - For each `city` in the `cities` list:\n",
    "     - The DataFrame `df_saxony` is filtered to include only rows where the `city` column matches the current city.\n",
    "     - The correlation coefficient between `area_m2` and `price_euros` for the filtered DataFrame is calculated.\n",
    "     - The city name is used as the key, and the correlation coefficient is the value in the resulting dictionary.\n",
    "\n",
    "This method is compact and leverages the power of dictionary comprehensions to achieve the same result with minimal code."
   ]
  },
  {
   "cell_type": "markdown",
   "id": "695880dc-7b27-4a64-b1d2-51e476a890e9",
   "metadata": {},
   "source": [
    "### Conclusion\n",
    "\n",
    "My desire to work on this notebook stemmed from interactions with my students who had questions about a similar exercise they encountered in class. This experience motivated me to explore and present a solution to their inquiries.\n",
    "\n",
    "Throughout this notebook, we delved into the faker library, which allows us to generate realistic fake data for various purposes. Additionally, we explored the numpy random generator class, specifically the `numpy.random.Generator` class introduced in NumPy version 1.17.0. This class provides a more flexible and efficient way to generate random numbers compared to the older `numpy.random` functions. It allows you to create multiple independent random number generators, each with its own state, which is useful for parallel computing and reproducibility.\n",
    "\n",
    "By combining these libraries and applying the concepts of dictionaries and DataFrames in Python, we demonstrated how to create and manipulate datasets effectively. The examples and explanations provided aim to clarify the process and offer a solid foundation for tackling similar problems.\n",
    "\n",
    "It is my sincere hope that you find this article informative and valuable. Whether you are a student, a data enthusiast, or a professional working with data, the techniques and insights shared here can be applied to a wide range of scenarios. Feel free to adapt and build upon the ideas presented to suit your specific needs, and don't hesitate to explore the capabilities of the `numpy.random.Generator` class and the faker library further to generate random numbers and data, and also to perform random sampling in your own projects.\n"
   ]
  },
  {
   "cell_type": "code",
   "execution_count": null,
   "id": "ce99f885-371c-485e-9b13-56c32a0270c8",
   "metadata": {},
   "outputs": [],
   "source": []
  }
 ],
 "metadata": {
  "kernelspec": {
   "display_name": "Python 3 (ipykernel)",
   "language": "python",
   "name": "python3"
  },
  "language_info": {
   "codemirror_mode": {
    "name": "ipython",
    "version": 3
   },
   "file_extension": ".py",
   "mimetype": "text/x-python",
   "name": "python",
   "nbconvert_exporter": "python",
   "pygments_lexer": "ipython3",
   "version": "3.10.12"
  }
 },
 "nbformat": 4,
 "nbformat_minor": 5
}
